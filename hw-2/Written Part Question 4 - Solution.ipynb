{
 "cells": [
  {
   "cell_type": "code",
   "execution_count": 1,
   "metadata": {
    "collapsed": true
   },
   "outputs": [],
   "source": [
    "import numpy as np"
   ]
  },
  {
   "cell_type": "code",
   "execution_count": 26,
   "metadata": {
    "collapsed": true
   },
   "outputs": [],
   "source": [
    "def deriv_partA_w1(w1, w2):\n",
    "    deriv = 2 * (w1 + 2 * w2 - 4) + 2 * (w1 + 3 * w2 - 3)\n",
    "    return deriv"
   ]
  },
  {
   "cell_type": "code",
   "execution_count": 27,
   "metadata": {
    "collapsed": true
   },
   "outputs": [],
   "source": [
    "def deriv_partA_w2(w1, w2):\n",
    "    deriv = 4 * (w1 + 2 * w2 - 4) + 6 * (w1 + 3 * w2 - 3)\n",
    "    return deriv"
   ]
  },
  {
   "cell_type": "code",
   "execution_count": 28,
   "metadata": {
    "collapsed": true
   },
   "outputs": [],
   "source": [
    "def q4_partA_print(): \n",
    "    w1 = 0\n",
    "    w2 = 0\n",
    "    \n",
    "    for i in range(1, 5):\n",
    "    \n",
    "        temp1 = w1 - 0.5 * deriv_partA_w1(w1, w2)\n",
    "        temp2 = w2 - 0.5 * deriv_partA_w2(w1, w2)\n",
    "        \n",
    "        w1 = temp1\n",
    "        w2 = temp2\n",
    "        \n",
    "        print(\"Iteration {0:d}: w1 = {1:f}, w2 = {2:f}\".format(i, w1, w2))\n",
    "    "
   ]
  },
  {
   "cell_type": "code",
   "execution_count": 29,
   "metadata": {
    "scrolled": true
   },
   "outputs": [
    {
     "name": "stdout",
     "output_type": "stream",
     "text": [
      "Iteration 1: w1 = 7.000000, w2 = 17.000000\n",
      "Iteration 2: w1 = -85.000000, w2 = -222.000000\n",
      "Iteration 3: w1 = 1202.000000, w2 = 3106.000000\n",
      "Iteration 4: w1 = -16725.000000, w2 = -43265.000000\n"
     ]
    }
   ],
   "source": [
    "q4_partA_print()"
   ]
  },
  {
   "cell_type": "code",
   "execution_count": 30,
   "metadata": {
    "collapsed": true
   },
   "outputs": [],
   "source": [
    "def deriv_partB_w1(w1, w2):\n",
    "    deriv = - 2 * (4 - w1 - 3 * w2) - 2 * (5 - w1 + 2 * w2) - 2 * (6 - w1 - 3 * w2)\n",
    "    return deriv"
   ]
  },
  {
   "cell_type": "code",
   "execution_count": 31,
   "metadata": {
    "collapsed": true
   },
   "outputs": [],
   "source": [
    "def deriv_partB_w2(w1, w2):\n",
    "    deriv = - 6 * (4 - w1 - 3 * w2) + 4 * (5 - w1 + 2 * w2) - 6 * (6 - w1 - 3 * w2)\n",
    "    return deriv"
   ]
  },
  {
   "cell_type": "code",
   "execution_count": 32,
   "metadata": {
    "collapsed": true
   },
   "outputs": [],
   "source": [
    "def q4_partB_print(): \n",
    "    w1 = 0\n",
    "    w2 = 0\n",
    "    \n",
    "    for i in range(4):\n",
    "    \n",
    "        temp1 = w1 - 0.5 * deriv_partB_w1(w1, w2)\n",
    "        temp2 = w2 - 0.5 * deriv_partB_w2(w1, w2)\n",
    "        \n",
    "        w1 = temp1\n",
    "        w2 = temp2\n",
    "        \n",
    "        print(\"Iteration {0:d}: w1 = {1:f}, w2 = {2:f}\".format(i, w1, w2))\n",
    "    "
   ]
  },
  {
   "cell_type": "code",
   "execution_count": 33,
   "metadata": {},
   "outputs": [
    {
     "name": "stdout",
     "output_type": "stream",
     "text": [
      "Iteration 0: w1 = 15.000000, w2 = 20.000000\n",
      "Iteration 1: w1 = -95.000000, w2 = -460.000000\n",
      "Iteration 2: w1 = 2045.000000, w2 = 10060.000000\n",
      "Iteration 3: w1 = -44315.000000, w2 = -219420.000000\n"
     ]
    }
   ],
   "source": [
    "q4_partB_print()"
   ]
  },
  {
   "cell_type": "code",
   "execution_count": null,
   "metadata": {
    "collapsed": true
   },
   "outputs": [],
   "source": []
  }
 ],
 "metadata": {
  "kernelspec": {
   "display_name": "Python 3",
   "language": "python",
   "name": "python3"
  },
  "language_info": {
   "codemirror_mode": {
    "name": "ipython",
    "version": 3
   },
   "file_extension": ".py",
   "mimetype": "text/x-python",
   "name": "python",
   "nbconvert_exporter": "python",
   "pygments_lexer": "ipython3",
   "version": "3.7.1"
  }
 },
 "nbformat": 4,
 "nbformat_minor": 2
}
