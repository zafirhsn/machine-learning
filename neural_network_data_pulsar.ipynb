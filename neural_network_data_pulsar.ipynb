{
 "cells": [
  {
   "cell_type": "code",
   "execution_count": 251,
   "metadata": {},
   "outputs": [],
   "source": [
    "import keras\n",
    "import keras.backend as K\n",
    "from keras.models import Model, Sequential\n",
    "from keras.layers import Dense, Activation\n",
    "from keras.utils.vis_utils import plot_model\n",
    "from IPython.display import clear_output\n",
    "from keras import optimizers\n",
    "from keras.models import load_model\n",
    "from keras.callbacks import Callback\n",
    "from sklearn.metrics import confusion_matrix, f1_score, precision_score, recall_score\n",
    "\n",
    "import numpy as np\n",
    "import matplotlib\n",
    "import matplotlib.pyplot as plt\n",
    "import pandas as pd\n",
    "from sklearn import datasets, linear_model, preprocessing\n",
    "from sklearn.model_selection import train_test_split\n",
    "%matplotlib inline\n"
   ]
  },
  {
   "cell_type": "code",
   "execution_count": 252,
   "metadata": {},
   "outputs": [
    {
     "data": {
      "text/html": [
       "<div>\n",
       "<style scoped>\n",
       "    .dataframe tbody tr th:only-of-type {\n",
       "        vertical-align: middle;\n",
       "    }\n",
       "\n",
       "    .dataframe tbody tr th {\n",
       "        vertical-align: top;\n",
       "    }\n",
       "\n",
       "    .dataframe thead th {\n",
       "        text-align: right;\n",
       "    }\n",
       "</style>\n",
       "<table border=\"1\" class=\"dataframe\">\n",
       "  <thead>\n",
       "    <tr style=\"text-align: right;\">\n",
       "      <th></th>\n",
       "      <th>MIP</th>\n",
       "      <th>SIP</th>\n",
       "      <th>EKIP</th>\n",
       "      <th>SKIP</th>\n",
       "      <th>MDM-SR</th>\n",
       "      <th>SDM-SR</th>\n",
       "      <th>EKDM-SR</th>\n",
       "      <th>SKDM-SR</th>\n",
       "      <th>Target</th>\n",
       "    </tr>\n",
       "  </thead>\n",
       "  <tbody>\n",
       "    <tr>\n",
       "      <th>0</th>\n",
       "      <td>140.562500</td>\n",
       "      <td>55.683782</td>\n",
       "      <td>-0.234571</td>\n",
       "      <td>-0.699648</td>\n",
       "      <td>3.199833</td>\n",
       "      <td>19.110426</td>\n",
       "      <td>7.975532</td>\n",
       "      <td>74.242225</td>\n",
       "      <td>0</td>\n",
       "    </tr>\n",
       "    <tr>\n",
       "      <th>1</th>\n",
       "      <td>102.507812</td>\n",
       "      <td>58.882430</td>\n",
       "      <td>0.465318</td>\n",
       "      <td>-0.515088</td>\n",
       "      <td>1.677258</td>\n",
       "      <td>14.860146</td>\n",
       "      <td>10.576487</td>\n",
       "      <td>127.393580</td>\n",
       "      <td>0</td>\n",
       "    </tr>\n",
       "    <tr>\n",
       "      <th>2</th>\n",
       "      <td>103.015625</td>\n",
       "      <td>39.341649</td>\n",
       "      <td>0.323328</td>\n",
       "      <td>1.051164</td>\n",
       "      <td>3.121237</td>\n",
       "      <td>21.744669</td>\n",
       "      <td>7.735822</td>\n",
       "      <td>63.171909</td>\n",
       "      <td>0</td>\n",
       "    </tr>\n",
       "    <tr>\n",
       "      <th>3</th>\n",
       "      <td>136.750000</td>\n",
       "      <td>57.178449</td>\n",
       "      <td>-0.068415</td>\n",
       "      <td>-0.636238</td>\n",
       "      <td>3.642977</td>\n",
       "      <td>20.959280</td>\n",
       "      <td>6.896499</td>\n",
       "      <td>53.593661</td>\n",
       "      <td>0</td>\n",
       "    </tr>\n",
       "    <tr>\n",
       "      <th>4</th>\n",
       "      <td>88.726562</td>\n",
       "      <td>40.672225</td>\n",
       "      <td>0.600866</td>\n",
       "      <td>1.123492</td>\n",
       "      <td>1.178930</td>\n",
       "      <td>11.468720</td>\n",
       "      <td>14.269573</td>\n",
       "      <td>252.567306</td>\n",
       "      <td>0</td>\n",
       "    </tr>\n",
       "    <tr>\n",
       "      <th>5</th>\n",
       "      <td>93.570312</td>\n",
       "      <td>46.698114</td>\n",
       "      <td>0.531905</td>\n",
       "      <td>0.416721</td>\n",
       "      <td>1.636288</td>\n",
       "      <td>14.545074</td>\n",
       "      <td>10.621748</td>\n",
       "      <td>131.394004</td>\n",
       "      <td>0</td>\n",
       "    </tr>\n",
       "  </tbody>\n",
       "</table>\n",
       "</div>"
      ],
      "text/plain": [
       "          MIP        SIP      EKIP      SKIP    MDM-SR     SDM-SR    EKDM-SR  \\\n",
       "0  140.562500  55.683782 -0.234571 -0.699648  3.199833  19.110426   7.975532   \n",
       "1  102.507812  58.882430  0.465318 -0.515088  1.677258  14.860146  10.576487   \n",
       "2  103.015625  39.341649  0.323328  1.051164  3.121237  21.744669   7.735822   \n",
       "3  136.750000  57.178449 -0.068415 -0.636238  3.642977  20.959280   6.896499   \n",
       "4   88.726562  40.672225  0.600866  1.123492  1.178930  11.468720  14.269573   \n",
       "5   93.570312  46.698114  0.531905  0.416721  1.636288  14.545074  10.621748   \n",
       "\n",
       "      SKDM-SR  Target  \n",
       "0   74.242225       0  \n",
       "1  127.393580       0  \n",
       "2   63.171909       0  \n",
       "3   53.593661       0  \n",
       "4  252.567306       0  \n",
       "5  131.394004       0  "
      ]
     },
     "execution_count": 252,
     "metadata": {},
     "output_type": "execute_result"
    }
   ],
   "source": [
    "features = ['MIP', 'SIP','EKIP','SKIP','MDM-SR','SDM-SR','EKDM-SR','SKDM-SR','Target']\n",
    "df =  pd.read_csv('pulsar_stars.csv',\n",
    "                names=features,na_values='?',header=None, skiprows = 1)\n",
    "df = df.dropna()\n",
    "df.head(6)"
   ]
  },
  {
   "cell_type": "code",
   "execution_count": 253,
   "metadata": {},
   "outputs": [
    {
     "name": "stdout",
     "output_type": "stream",
     "text": [
      "(17898, 8)\n",
      "(17898, 1)\n"
     ]
    }
   ],
   "source": [
    "\n",
    "#pulsar = np.array((df.loc[:,'MIP':'Target']))\n",
    "# Get the appropriate data from the datafile using the column headers\n",
    "pulsar_x= np.array((df.loc[:,'MIP':'SKDM-SR']))\n",
    "pulsar_y= np.array((df.loc[:,'Target']))\n",
    "\n",
    "# Reshape the features and target vector\n",
    "pulsar_x=pulsar_x.reshape(pulsar_x.shape[0],8)\n",
    "pulsar_y=pulsar_y.reshape(pulsar_y.shape[0],1)\n",
    "\n",
    "# Check the shape\n",
    "print(pulsar_x.shape)\n",
    "print(pulsar_y.shape)\n"
   ]
  },
  {
   "cell_type": "code",
   "execution_count": 254,
   "metadata": {},
   "outputs": [
    {
     "name": "stdout",
     "output_type": "stream",
     "text": [
      "(13423, 1)\n",
      "(13423, 8)\n"
     ]
    }
   ],
   "source": [
    "# Scale the features, mean center and standard deviation = 1\n",
    "x_scale = preprocessing.scale(pulsar_x)\n",
    "\n",
    "# Default test size of 0.25 of dataset, default shuffle=true, \n",
    "x_train, x_test, y_train, y_test = train_test_split(x_scale, pulsar_y)\n",
    "y_train = y_train.reshape((y_train.shape[0]), 1)\n",
    "\n",
    "#Check the shape \n",
    "print(y_train.shape)\n",
    "print(x_train.shape)"
   ]
  },
  {
   "cell_type": "markdown",
   "metadata": {},
   "source": [
    "# Neural Networks\n",
    "In the following section, we will run our data set through various neural networks with different hyper parameters. We will vary the activation function (tanh, reLU, sigmoid), the number of inputs in the hidden layer (10, 100, 200), and the number of hidden layers (1, 2, 5, with 100 nodes in each hidden layer). Weights and biases will be initialized randomly.  "
   ]
  },
  {
   "cell_type": "code",
   "execution_count": 255,
   "metadata": {},
   "outputs": [],
   "source": [
    "class Metrics(Callback):\n",
    "    def on_train_begin(self, logs={}):\n",
    "     self.val_f1s = []\n",
    "     self.val_recalls = []\n",
    "     self.val_precisions = []\n",
    " \n",
    "    def on_epoch_end(self, epoch, logs={}):\n",
    "     val_predict = (np.asarray(self.model.predict(self.validation_data[0])).round())\n",
    "     val_targ = self.validation_data[1]\n",
    "     _val_f1 = f1_score(val_targ, val_predict)\n",
    "     _val_recall = recall_score(val_targ, val_predict)\n",
    "     _val_precision = precision_score(val_targ, val_predict)\n",
    "    \n",
    "     self.val_f1s.append(_val_f1)\n",
    "     self.val_recalls.append(_val_recall)\n",
    "     self.val_precisions.append(_val_precision)\n",
    "        \n",
    "     print (\" — val_f1: %f — val_precision: %f — val_recall %f\" % \n",
    "            (_val_f1, _val_precision, _val_recall))\n",
    "     return\n",
    "\n",
    "metrics = Metrics()\n",
    "\n",
    "\n",
    "# Build and compile our network with user given parameters\n",
    "def neural_network(nin, nh, nout, nhl, act):\n",
    "    model = Sequential();\n",
    "    for x in range(0,nhl):\n",
    "        model.add(Dense(nh, input_shape=(nin,), activation=act, name=\"hidden\"+str(x)))\n",
    "    model.add(Dense(nout, activation=\"sigmoid\", name=\"output\"))  \n",
    "    # Compile model\n",
    "    opt = optimizers.Adam(lr=0.001) \n",
    "    model.compile(optimizer=opt, \n",
    "             loss=\"binary_crossentropy\",\n",
    "             metrics=[\"accuracy\"])  \n",
    "    return model\n",
    "\n",
    "# Train and validate our network on training and test data\n",
    "def train_network(model, x_train, y_train, x_test, y_test):\n",
    "    history = model.fit(x_train, y_train, epochs=10, batch_size=100, \n",
    "                validation_data=(x_test, y_test), callbacks=[metrics], verbose=1)\n",
    "    return history\n",
    "\n",
    "# Plot network accuracy\n",
    "def plot_acc(history, title):\n",
    "    plt.plot(history.history['acc'])\n",
    "    plt.plot(history.history['val_acc'])\n",
    "    plt.title(title)\n",
    "    plt.ylabel('Accuracy')\n",
    "    plt.xlabel('Epoch')\n",
    "    plt.legend(['acc', 'val_acc'], loc='lower right')\n",
    "    plt.show()\n",
    "\n",
    "# Plot network loss\n",
    "def plot_loss(history, title):\n",
    "    plt.plot(history.history['loss'])\n",
    "    plt.plot(history.history['val_loss'])\n",
    "    plt.title(title)\n",
    "    plt.ylabel('Loss')\n",
    "    plt.xlabel('Epoch')\n",
    "    plt.legend(['acc', 'val_acc'], loc='upper right')\n",
    "    plt.show()\n",
    "    \n"
   ]
  },
  {
   "cell_type": "markdown",
   "metadata": {},
   "source": [
    "# Network 8-100-1, Sigmoid"
   ]
  },
  {
   "cell_type": "code",
   "execution_count": 267,
   "metadata": {},
   "outputs": [
    {
     "name": "stdout",
     "output_type": "stream",
     "text": [
      "Train on 13423 samples, validate on 4475 samples\n",
      "Epoch 1/10\n",
      "13423/13423 [==============================] - 1s 41us/step - loss: 0.2057 - acc: 0.9357 - val_loss: 0.1317 - val_acc: 0.9580\n",
      " — val_f1: 0.715152 — val_precision: 0.971193 — val_recall 0.565947\n",
      "Epoch 2/10\n",
      "13423/13423 [==============================] - 0s 10us/step - loss: 0.1121 - acc: 0.9662 - val_loss: 0.1068 - val_acc: 0.9687\n",
      " — val_f1: 0.803922 — val_precision: 0.966330 — val_recall 0.688249\n",
      "Epoch 3/10\n",
      "13423/13423 [==============================] - 0s 10us/step - loss: 0.0970 - acc: 0.9713 - val_loss: 0.0975 - val_acc: 0.9705\n",
      " — val_f1: 0.820652 — val_precision: 0.946708 — val_recall 0.724221\n",
      "Epoch 4/10\n",
      "13423/13423 [==============================] - 0s 10us/step - loss: 0.0903 - acc: 0.9733 - val_loss: 0.0926 - val_acc: 0.9721\n",
      " — val_f1: 0.831763 — val_precision: 0.947853 — val_recall 0.741007\n",
      "Epoch 5/10\n",
      "13423/13423 [==============================] - 0s 10us/step - loss: 0.0863 - acc: 0.9745 - val_loss: 0.0893 - val_acc: 0.9725\n",
      " — val_f1: 0.836653 — val_precision: 0.937500 — val_recall 0.755396\n",
      "Epoch 6/10\n",
      "13423/13423 [==============================] - 0s 10us/step - loss: 0.0835 - acc: 0.9753 - val_loss: 0.0872 - val_acc: 0.9727\n",
      " — val_f1: 0.837333 — val_precision: 0.942943 — val_recall 0.752998\n",
      "Epoch 7/10\n",
      "13423/13423 [==============================] - 0s 10us/step - loss: 0.0817 - acc: 0.9759 - val_loss: 0.0856 - val_acc: 0.9736\n",
      " — val_f1: 0.843915 — val_precision: 0.941003 — val_recall 0.764988\n",
      "Epoch 8/10\n",
      "13423/13423 [==============================] - 0s 10us/step - loss: 0.0801 - acc: 0.9759 - val_loss: 0.0852 - val_acc: 0.9734\n",
      " — val_f1: 0.841965 — val_precision: 0.943452 — val_recall 0.760192\n",
      "Epoch 9/10\n",
      "13423/13423 [==============================] - 0s 11us/step - loss: 0.0792 - acc: 0.9760 - val_loss: 0.0837 - val_acc: 0.9741\n",
      " — val_f1: 0.847769 — val_precision: 0.936232 — val_recall 0.774580\n",
      "Epoch 10/10\n",
      "13423/13423 [==============================] - 0s 10us/step - loss: 0.0783 - acc: 0.9765 - val_loss: 0.0831 - val_acc: 0.9741\n",
      " — val_f1: 0.847769 — val_precision: 0.936232 — val_recall 0.774580\n",
      "_________________________________________________________________\n",
      "Layer (type)                 Output Shape              Param #   \n",
      "=================================================================\n",
      "hidden0 (Dense)              (None, 100)               900       \n",
      "_________________________________________________________________\n",
      "output (Dense)               (None, 1)                 101       \n",
      "=================================================================\n",
      "Total params: 1,001\n",
      "Trainable params: 1,001\n",
      "Non-trainable params: 0\n",
      "_________________________________________________________________\n"
     ]
    },
    {
     "data": {
      "image/png": "[encoded data removed]",
      "text/plain": [
       "<Figure size 432x288 with 1 Axes>"
      ]
     },
     "metadata": {
      "needs_background": "light"
     },
     "output_type": "display_data"
    },
    {
     "data": {
      "image/png": "[encoded data removed]",
      "text/plain": [
       "<Figure size 432x288 with 1 Axes>"
      ]
     },
     "metadata": {
      "needs_background": "light"
     },
     "output_type": "display_data"
    },
    {
     "name": "stdout",
     "output_type": "stream",
     "text": [
      "Validation Accuracy = 0.974078\n"
     ]
    },
    {
     "ename": "KeyError",
     "evalue": "'_val_f1'",
     "output_type": "error",
     "traceback": [
      "\u001b[1;31m---------------------------------------------------------------------------\u001b[0m",
      "\u001b[1;31mKeyError\u001b[0m                                  Traceback (most recent call last)",
      "\u001b[1;32m<ipython-input-267-77d42fb98777>\u001b[0m in \u001b[0;36m<module>\u001b[1;34m\u001b[0m\n\u001b[0;32m     24\u001b[0m \u001b[0mscore\u001b[0m\u001b[1;33m,\u001b[0m \u001b[0macc\u001b[0m \u001b[1;33m=\u001b[0m \u001b[0mmodel_sig\u001b[0m\u001b[1;33m.\u001b[0m\u001b[0mevaluate\u001b[0m\u001b[1;33m(\u001b[0m\u001b[0mx_test\u001b[0m\u001b[1;33m,\u001b[0m \u001b[0my_test\u001b[0m\u001b[1;33m,\u001b[0m \u001b[0mverbose\u001b[0m \u001b[1;33m=\u001b[0m \u001b[1;36m0\u001b[0m\u001b[1;33m)\u001b[0m\u001b[1;33m\u001b[0m\u001b[1;33m\u001b[0m\u001b[0m\n\u001b[0;32m     25\u001b[0m \u001b[0mprint\u001b[0m\u001b[1;33m(\u001b[0m\u001b[1;34m\"Validation Accuracy = %f\"\u001b[0m \u001b[1;33m%\u001b[0m \u001b[0macc\u001b[0m\u001b[1;33m)\u001b[0m\u001b[1;33m\u001b[0m\u001b[1;33m\u001b[0m\u001b[0m\n\u001b[1;32m---> 26\u001b[1;33m \u001b[0mprint\u001b[0m\u001b[1;33m(\u001b[0m\u001b[1;34m\"Validation F1 Score = %f\"\u001b[0m \u001b[1;33m%\u001b[0m \u001b[0msig_history\u001b[0m\u001b[1;33m.\u001b[0m\u001b[0mhistory\u001b[0m\u001b[1;33m[\u001b[0m\u001b[1;34m\"_val_f1\"\u001b[0m\u001b[1;33m]\u001b[0m\u001b[1;33m[\u001b[0m\u001b[1;36m9\u001b[0m\u001b[1;33m]\u001b[0m\u001b[1;33m)\u001b[0m\u001b[1;33m\u001b[0m\u001b[1;33m\u001b[0m\u001b[0m\n\u001b[0m",
      "\u001b[1;31mKeyError\u001b[0m: '_val_f1'"
     ]
    }
   ],
   "source": [
    "K.clear_session()\n",
    "\n",
    "modelArr = []\n",
    "historyArr = []\n",
    "modelNameArr = []\n",
    "# Number of nodes in input layer = number of features = 8\n",
    "nin = x_train.shape[1];\n",
    "# Number of hidden layer nodes\n",
    "nh = 100;\n",
    "# Number of output nodes\n",
    "nout = 1;\n",
    "\n",
    "\n",
    "model_sig = neural_network(nin, nh, nout, 1, \"sigmoid\")\n",
    "sig_history = train_network(model_sig, x_train, y_train, x_test, y_test);\n",
    "model_sig.summary()\n",
    "plot_acc(sig_history, \"Sigmoid Accuracy\")\n",
    "plot_loss(sig_history, \"Sigmoid Loss\")\n",
    "\n",
    "modelArr.append(model_sig)\n",
    "historyArr.append(sig_history)\n",
    "modelNameArr.append(\"model_sig\")\n",
    "\n",
    "score, acc = model_sig.evaluate(x_test, y_test, verbose = 0)\n",
    "print(\"Validation Accuracy = %f\" % acc)\n",
    "print(\"Validation F1 Score = %f\" % sig_history.history[\"val_f1s\"][9])\n"
   ]
  },
  {
   "cell_type": "markdown",
   "metadata": {},
   "source": [
    "## Network 8-100-1, ReLU"
   ]
  },
  {
   "cell_type": "code",
   "execution_count": 260,
   "metadata": {},
   "outputs": [
    {
     "name": "stdout",
     "output_type": "stream",
     "text": [
      "_________________________________________________________________\n",
      "Layer (type)                 Output Shape              Param #   \n",
      "=================================================================\n",
      "hidden0 (Dense)              (None, 100)               900       \n",
      "_________________________________________________________________\n",
      "output (Dense)               (None, 1)                 101       \n",
      "=================================================================\n",
      "Total params: 1,001\n",
      "Trainable params: 1,001\n",
      "Non-trainable params: 0\n",
      "_________________________________________________________________\n",
      "Train on 13423 samples, validate on 4475 samples\n",
      "Epoch 1/10\n",
      "13423/13423 [==============================] - 1s 44us/step - loss: 0.3268 - acc: 0.9030 - val_loss: 0.1273 - val_acc: 0.9723\n",
      " — val_f1: 0.829670 — val_precision: 0.971061 — val_recall 0.724221\n",
      "Epoch 2/10\n",
      "13423/13423 [==============================] - 0s 11us/step - loss: 0.0965 - acc: 0.9757 - val_loss: 0.0868 - val_acc: 0.9743\n",
      " — val_f1: 0.847682 — val_precision: 0.946746 — val_recall 0.767386\n",
      "Epoch 3/10\n",
      "13423/13423 [==============================] - 0s 11us/step - loss: 0.0796 - acc: 0.9774 - val_loss: 0.0810 - val_acc: 0.9761\n",
      " — val_f1: 0.860131 — val_precision: 0.945402 — val_recall 0.788969\n",
      "Epoch 4/10\n",
      "13423/13423 [==============================] - 0s 10us/step - loss: 0.0758 - acc: 0.9774 - val_loss: 0.0788 - val_acc: 0.9768\n",
      " — val_f1: 0.864935 — val_precision: 0.943343 — val_recall 0.798561\n",
      "Epoch 5/10\n",
      "13423/13423 [==============================] - 0s 10us/step - loss: 0.0740 - acc: 0.9779 - val_loss: 0.0790 - val_acc: 0.9756\n",
      " — val_f1: 0.857143 — val_precision: 0.945087 — val_recall 0.784173\n",
      "Epoch 6/10\n",
      "13423/13423 [==============================] - 0s 11us/step - loss: 0.0729 - acc: 0.9780 - val_loss: 0.0772 - val_acc: 0.9768\n",
      " — val_f1: 0.865285 — val_precision: 0.940845 — val_recall 0.800959\n",
      "Epoch 7/10\n",
      "13423/13423 [==============================] - 0s 11us/step - loss: 0.0721 - acc: 0.9788 - val_loss: 0.0765 - val_acc: 0.9770\n",
      " — val_f1: 0.866407 — val_precision: 0.943503 — val_recall 0.800959\n",
      "Epoch 8/10\n",
      "13423/13423 [==============================] - 0s 10us/step - loss: 0.0715 - acc: 0.9788 - val_loss: 0.0759 - val_acc: 0.9768\n",
      " — val_f1: 0.865285 — val_precision: 0.940845 — val_recall 0.800959\n",
      "Epoch 9/10\n",
      "13423/13423 [==============================] - 0s 11us/step - loss: 0.0706 - acc: 0.9793 - val_loss: 0.0756 - val_acc: 0.9765\n",
      " — val_f1: 0.863103 — val_precision: 0.945714 — val_recall 0.793765\n",
      "Epoch 10/10\n",
      "13423/13423 [==============================] - 0s 11us/step - loss: 0.0701 - acc: 0.9794 - val_loss: 0.0752 - val_acc: 0.9768\n",
      " — val_f1: 0.864583 — val_precision: 0.945869 — val_recall 0.796163\n"
     ]
    },
    {
     "data": {
      "image/png": "[encoded data removed]",
      "text/plain": [
       "<Figure size 432x288 with 1 Axes>"
      ]
     },
     "metadata": {
      "needs_background": "light"
     },
     "output_type": "display_data"
    },
    {
     "data": {
      "image/png": "[encoded data removed]",
      "text/plain": [
       "<Figure size 432x288 with 1 Axes>"
      ]
     },
     "metadata": {
      "needs_background": "light"
     },
     "output_type": "display_data"
    },
    {
     "name": "stdout",
     "output_type": "stream",
     "text": [
      "Accuracy = 0.976760\n"
     ]
    }
   ],
   "source": [
    "nh = 100;\n",
    "    \n",
    "model_relu = neural_network(nin, nh, nout, 1, \"relu\")\n",
    "model_relu.summary()\n",
    "relu_history = train_network(model_relu, x_train, y_train, x_test, y_test);\n",
    "plot_acc(relu_history, \"ReLu Accuracy\")\n",
    "plot_loss(relu_history, \"ReLU Loss\")\n",
    "\n",
    "modelArr.append(model_relu)\n",
    "historyArr.append(relu_history)\n",
    "modelNameArr.append(\"model_relu\")\n",
    "\n",
    "score, acc = model_relu.evaluate(x_test, y_test, verbose = 0)\n",
    "print(\"Accuracy = %f\" % acc)"
   ]
  },
  {
   "cell_type": "markdown",
   "metadata": {},
   "source": [
    "## Network 8-100-1, tanh"
   ]
  },
  {
   "cell_type": "code",
   "execution_count": null,
   "metadata": {},
   "outputs": [],
   "source": [
    "nh = 100;\n",
    "    \n",
    "model_tanh = neural_network(nin, nh, nout, 1, \"relu\")\n",
    "model_tanh.summary()\n",
    "tanh_history = train_network(model_tanh, x_train, y_train, x_test, y_test);\n",
    "plot_acc(tanh_history, \"Tanh Accuracy\")\n",
    "plot_loss(tanh_history, \"Tanh Loss\")\n",
    "\n",
    "modelArr.append(model_tanh)\n",
    "historyArr.append(tanh_history)\n",
    "modelNameArr.append(\"model_tanh\")\n",
    "\n",
    "score, acc = model_tanh.evaluate(x_test, y_test, verbose = 0)\n",
    "print(\"Accuracy = %f\" % acc)"
   ]
  },
  {
   "cell_type": "markdown",
   "metadata": {},
   "source": [
    "## Network 8-10-1, sigmoid"
   ]
  },
  {
   "cell_type": "code",
   "execution_count": null,
   "metadata": {},
   "outputs": [],
   "source": [
    "# We are changing the number of hidden units here\n",
    "nh = 10;\n",
    "    \n",
    "model_ten = neural_network(nin, nh, nout, 1, \"sigmoid\")\n",
    "model_ten.summary()\n",
    "ten_history = train_network(model_ten, x_train, y_train, x_test, y_test);\n",
    "plot_acc(ten_history, \"10 Hidden Unit Accuracy\")\n",
    "plot_loss(ten_history, \"10 Hidden Unit Loss\")\n",
    "\n",
    "modelArr.append(model_ten)\n",
    "historyArr.append(ten_history)\n",
    "modelNameArr.append(\"model_ten\")\n",
    "\n",
    "score, acc = model_ten.evaluate(x_test, y_test, verbose = 0)\n",
    "print(\"Accuracy = %f\" % acc)"
   ]
  },
  {
   "cell_type": "markdown",
   "metadata": {},
   "source": [
    "## Network 8-200-1, sigmoid"
   ]
  },
  {
   "cell_type": "code",
   "execution_count": null,
   "metadata": {},
   "outputs": [],
   "source": [
    "nh = 200;\n",
    "    \n",
    "model_twohund = neural_network(nin, nh, nout, 1, \"sigmoid\")\n",
    "model_twohund.summary()\n",
    "twohund_history = train_network(model_twohund, x_train, y_train, x_test, y_test);\n",
    "plot_acc(twohund_history, \"200 Hidden Unit Accuracy\")\n",
    "plot_loss(twohund_history, \"200 Hidden Unit Loss\")\n",
    "\n",
    "modelArr.append(model_twohund)\n",
    "historyArr.append(twohund_history)\n",
    "modelNameArr.append(\"model_twohund\")\n",
    "\n",
    "score, acc = model_twohund.evaluate(x_test, y_test, verbose = 0)\n",
    "print(\"Accuracy = %f\" % acc)"
   ]
  },
  {
   "cell_type": "markdown",
   "metadata": {},
   "source": [
    "## Network 8-100-100-1 sigmoid"
   ]
  },
  {
   "cell_type": "code",
   "execution_count": null,
   "metadata": {},
   "outputs": [],
   "source": [
    "nh = 100;\n",
    "num_layers = 2;\n",
    "    \n",
    "model_twolayer = neural_network(nin, nh, nout, num_layers, \"sigmoid\")\n",
    "model_twolayer.summary()\n",
    "twolayer_history = train_network(model_twolayer, x_train, y_train, x_test, y_test);\n",
    "plot_acc(twolayer_history, \"2 Hidden Layer (100) Accuracy\")\n",
    "plot_loss(twolayer_history, \"2 Hidden Layer (100) Loss\")\n",
    "\n",
    "modelArr.append(model_twolayer)\n",
    "historyArr.append(twolayer_history)\n",
    "modelNameArr.append(\"model_twolayer\")\n",
    "\n",
    "score, acc = model_twolayer.evaluate(x_test, y_test, verbose = 0)\n",
    "print(\"Accuracy = %f\" % acc)"
   ]
  },
  {
   "cell_type": "markdown",
   "metadata": {},
   "source": [
    "## Network 8-100-100-100-100-100-1, sigmoid"
   ]
  },
  {
   "cell_type": "code",
   "execution_count": null,
   "metadata": {},
   "outputs": [],
   "source": [
    "nh = 100;\n",
    "num_layers = 5;\n",
    "    \n",
    "model_fivelayer = neural_network(nin, nh, nout, num_layers, \"sigmoid\")\n",
    "model_fivelayer.summary()\n",
    "fivelayer_history = train_network(model_fivelayer, x_train, y_train, x_test, y_test);\n",
    "plot_acc(fivelayer_history, \"5 Hidden Layer (100) Accuracy\")\n",
    "plot_loss(fivelayer_history, \"5 Hidden Layer (100) Loss\")\n",
    "\n",
    "modelArr.append(model_fivelayer)\n",
    "historyArr.append(fivelayer_history)\n",
    "modelNameArr.append(\"model_fivelayer\")\n",
    "\n",
    "score, acc = model_fivelayer.evaluate(x_test, y_test, verbose = 0)\n",
    "print(\"Accuracy = %f\" % acc)"
   ]
  },
  {
   "cell_type": "markdown",
   "metadata": {},
   "source": [
    "## Accuracy of All Models"
   ]
  },
  {
   "cell_type": "code",
   "execution_count": null,
   "metadata": {},
   "outputs": [],
   "source": [
    "fig=plt.figure(figsize=(18, 16), dpi= 80, facecolor='w', edgecolor='k')\n",
    "fig.tight_layout()\n",
    "\n",
    "for index, history in enumerate(historyArr):\n",
    "    plt.subplot(3,3,index+1)\n",
    "    plt.plot(history.history['acc'])\n",
    "    plt.plot(history.history['val_acc'])\n",
    "    plt.title(modelNameArr[index] + \" Accuracy\")\n",
    "    plt.ylabel('Accuracy')\n",
    "    plt.xlabel('Epoch')\n",
    "    plt.legend(['acc', 'val_acc'], loc='lower right')\n",
    "\n",
    "plt.show()"
   ]
  },
  {
   "cell_type": "markdown",
   "metadata": {},
   "source": [
    "## Loss of All Models"
   ]
  },
  {
   "cell_type": "code",
   "execution_count": null,
   "metadata": {},
   "outputs": [],
   "source": [
    "fig=plt.figure(figsize=(18, 16), dpi= 80, facecolor='w', edgecolor='k')\n",
    "fig.tight_layout()\n",
    "\n",
    "for index, history in enumerate(historyArr):\n",
    "    plt.subplot(3,3,index+1)\n",
    "    plt.plot(history.history['loss'])\n",
    "    plt.plot(history.history['val_loss'])\n",
    "    plt.title(modelNameArr[index] + \" Loss\")\n",
    "    plt.ylabel('Loss')\n",
    "    plt.xlabel('Epoch')\n",
    "    plt.legend(['loss', 'val_loss'], loc='upper right')\n",
    "\n",
    "plt.show()"
   ]
  },
  {
   "cell_type": "markdown",
   "metadata": {},
   "source": [
    "## Final Accuracies of all models after 10 Epochs"
   ]
  },
  {
   "cell_type": "code",
   "execution_count": null,
   "metadata": {},
   "outputs": [],
   "source": [
    "for index, model in enumerate(modelArr):\n",
    "    score, acc = model.evaluate(x_test, y_test, verbose = 0)\n",
    "    print(modelNameArr[index] + \" Validation Accuracy = \" + \"{:.3%}\".format(acc))\n",
    "\n",
    "print('\\n')\n",
    "\n",
    "for index, history in enumerate(historyArr):\n",
    "    \n",
    "    print(modelNameArr[index] + \" Train Accuracy = \" + \n",
    "          \"{:.3%}\".format(history.history[\"acc\"][9]))"
   ]
  },
  {
   "cell_type": "code",
   "execution_count": null,
   "metadata": {},
   "outputs": [],
   "source": []
  }
 ],
 "metadata": {
  "kernelspec": {
   "display_name": "Python 3",
   "language": "python",
   "name": "python3"
  },
  "language_info": {
   "codemirror_mode": {
    "name": "ipython",
    "version": 3
   },
   "file_extension": ".py",
   "mimetype": "text/x-python",
   "name": "python",
   "nbconvert_exporter": "python",
   "pygments_lexer": "ipython3",
   "version": "3.7.1"
  }
 },
 "nbformat": 4,
 "nbformat_minor": 2
}
