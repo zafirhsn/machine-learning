{
 "cells": [
  {
   "cell_type": "code",
   "execution_count": 234,
   "metadata": {},
   "outputs": [],
   "source": [
    "import keras\n",
    "import keras.backend as K\n",
    "from keras.models import Model, Sequential\n",
    "from keras.layers import Dense, Activation\n",
    "from keras.utils.vis_utils import plot_model\n",
    "from IPython.display import clear_output\n",
    "\n",
    "import numpy as np\n",
    "import matplotlib\n",
    "import matplotlib.pyplot as plt\n",
    "import pandas as pd\n",
    "from sklearn import datasets, linear_model, preprocessing\n",
    "from sklearn.model_selection import train_test_split\n",
    "%matplotlib inline\n"
   ]
  },
  {
   "cell_type": "code",
   "execution_count": 235,
   "metadata": {},
   "outputs": [
    {
     "data": {
      "text/html": [
       "<div>\n",
       "<style scoped>\n",
       "    .dataframe tbody tr th:only-of-type {\n",
       "        vertical-align: middle;\n",
       "    }\n",
       "\n",
       "    .dataframe tbody tr th {\n",
       "        vertical-align: top;\n",
       "    }\n",
       "\n",
       "    .dataframe thead th {\n",
       "        text-align: right;\n",
       "    }\n",
       "</style>\n",
       "<table border=\"1\" class=\"dataframe\">\n",
       "  <thead>\n",
       "    <tr style=\"text-align: right;\">\n",
       "      <th></th>\n",
       "      <th>MIP</th>\n",
       "      <th>SIP</th>\n",
       "      <th>EKIP</th>\n",
       "      <th>SKIP</th>\n",
       "      <th>MDM-SR</th>\n",
       "      <th>SDM-SR</th>\n",
       "      <th>EKDM-SR</th>\n",
       "      <th>SKDM-SR</th>\n",
       "      <th>Target</th>\n",
       "    </tr>\n",
       "  </thead>\n",
       "  <tbody>\n",
       "    <tr>\n",
       "      <th>0</th>\n",
       "      <td>140.562500</td>\n",
       "      <td>55.683782</td>\n",
       "      <td>-0.234571</td>\n",
       "      <td>-0.699648</td>\n",
       "      <td>3.199833</td>\n",
       "      <td>19.110426</td>\n",
       "      <td>7.975532</td>\n",
       "      <td>74.242225</td>\n",
       "      <td>0</td>\n",
       "    </tr>\n",
       "    <tr>\n",
       "      <th>1</th>\n",
       "      <td>102.507812</td>\n",
       "      <td>58.882430</td>\n",
       "      <td>0.465318</td>\n",
       "      <td>-0.515088</td>\n",
       "      <td>1.677258</td>\n",
       "      <td>14.860146</td>\n",
       "      <td>10.576487</td>\n",
       "      <td>127.393580</td>\n",
       "      <td>0</td>\n",
       "    </tr>\n",
       "    <tr>\n",
       "      <th>2</th>\n",
       "      <td>103.015625</td>\n",
       "      <td>39.341649</td>\n",
       "      <td>0.323328</td>\n",
       "      <td>1.051164</td>\n",
       "      <td>3.121237</td>\n",
       "      <td>21.744669</td>\n",
       "      <td>7.735822</td>\n",
       "      <td>63.171909</td>\n",
       "      <td>0</td>\n",
       "    </tr>\n",
       "    <tr>\n",
       "      <th>3</th>\n",
       "      <td>136.750000</td>\n",
       "      <td>57.178449</td>\n",
       "      <td>-0.068415</td>\n",
       "      <td>-0.636238</td>\n",
       "      <td>3.642977</td>\n",
       "      <td>20.959280</td>\n",
       "      <td>6.896499</td>\n",
       "      <td>53.593661</td>\n",
       "      <td>0</td>\n",
       "    </tr>\n",
       "    <tr>\n",
       "      <th>4</th>\n",
       "      <td>88.726562</td>\n",
       "      <td>40.672225</td>\n",
       "      <td>0.600866</td>\n",
       "      <td>1.123492</td>\n",
       "      <td>1.178930</td>\n",
       "      <td>11.468720</td>\n",
       "      <td>14.269573</td>\n",
       "      <td>252.567306</td>\n",
       "      <td>0</td>\n",
       "    </tr>\n",
       "    <tr>\n",
       "      <th>5</th>\n",
       "      <td>93.570312</td>\n",
       "      <td>46.698114</td>\n",
       "      <td>0.531905</td>\n",
       "      <td>0.416721</td>\n",
       "      <td>1.636288</td>\n",
       "      <td>14.545074</td>\n",
       "      <td>10.621748</td>\n",
       "      <td>131.394004</td>\n",
       "      <td>0</td>\n",
       "    </tr>\n",
       "  </tbody>\n",
       "</table>\n",
       "</div>"
      ],
      "text/plain": [
       "          MIP        SIP      EKIP      SKIP    MDM-SR     SDM-SR    EKDM-SR  \\\n",
       "0  140.562500  55.683782 -0.234571 -0.699648  3.199833  19.110426   7.975532   \n",
       "1  102.507812  58.882430  0.465318 -0.515088  1.677258  14.860146  10.576487   \n",
       "2  103.015625  39.341649  0.323328  1.051164  3.121237  21.744669   7.735822   \n",
       "3  136.750000  57.178449 -0.068415 -0.636238  3.642977  20.959280   6.896499   \n",
       "4   88.726562  40.672225  0.600866  1.123492  1.178930  11.468720  14.269573   \n",
       "5   93.570312  46.698114  0.531905  0.416721  1.636288  14.545074  10.621748   \n",
       "\n",
       "      SKDM-SR  Target  \n",
       "0   74.242225       0  \n",
       "1  127.393580       0  \n",
       "2   63.171909       0  \n",
       "3   53.593661       0  \n",
       "4  252.567306       0  \n",
       "5  131.394004       0  "
      ]
     },
     "execution_count": 235,
     "metadata": {},
     "output_type": "execute_result"
    }
   ],
   "source": [
    "features = ['MIP', 'SIP','EKIP','SKIP','MDM-SR','SDM-SR','EKDM-SR','SKDM-SR','Target']\n",
    "df =  pd.read_csv('pulsar_stars.csv',\n",
    "                names=features,na_values='?',header=None, skiprows = 1)\n",
    "df = df.dropna()\n",
    "df.head(6)"
   ]
  },
  {
   "cell_type": "code",
   "execution_count": 236,
   "metadata": {},
   "outputs": [
    {
     "name": "stdout",
     "output_type": "stream",
     "text": [
      "(17898, 8)\n",
      "(17898, 1)\n"
     ]
    }
   ],
   "source": [
    "\n",
    "#pulsar = np.array((df.loc[:,'MIP':'Target']))\n",
    "# Get the appropriate data from the datafile using the column headers\n",
    "pulsar_x= np.array((df.loc[:,'MIP':'SKDM-SR']))\n",
    "pulsar_y= np.array((df.loc[:,'Target']))\n",
    "\n",
    "# Reshape the features and target vector\n",
    "pulsar_x=pulsar_x.reshape(pulsar_x.shape[0],8)\n",
    "pulsar_y=pulsar_y.reshape(pulsar_y.shape[0],1)\n",
    "\n",
    "# Check the shape\n",
    "print(pulsar_x.shape)\n",
    "print(pulsar_y.shape)\n"
   ]
  },
  {
   "cell_type": "code",
   "execution_count": 237,
   "metadata": {},
   "outputs": [
    {
     "name": "stdout",
     "output_type": "stream",
     "text": [
      "(13423, 1)\n",
      "(13423, 8)\n"
     ]
    }
   ],
   "source": [
    "# Scale the features, mean center and standard deviation = 1\n",
    "x_scale = preprocessing.scale(pulsar_x)\n",
    "\n",
    "# Default test size of 0.25 of dataset, default shuffle=true, \n",
    "x_train, x_test, y_train, y_test = train_test_split(x_scale, pulsar_y)\n",
    "y_train = y_train.reshape((y_train.shape[0]), 1)\n",
    "\n",
    "#Check the shape \n",
    "print(y_train.shape)\n",
    "print(x_train.shape)"
   ]
  },
  {
   "cell_type": "markdown",
   "metadata": {},
   "source": [
    "# Neural Networks\n",
    "In the following section, we will run our data set through various neural networks with different hyper parameters. We will vary the activation function (tanh, reLU, sigmoid), the number of inputs in the hidden layer (10, 100, 200), and the number of hidden layers (1, 2, 5, with 100 nodes in each hidden layer). Weights and biases will be initialized randomly.  "
   ]
  },
  {
   "cell_type": "markdown",
   "metadata": {},
   "source": [
    "### 1 Hidden Layer, 100 Hidden Nodes, Sigmoid Activation"
   ]
  },
  {
   "cell_type": "code",
   "execution_count": 238,
   "metadata": {},
   "outputs": [
    {
     "name": "stdout",
     "output_type": "stream",
     "text": [
      "Number of input nodes = 8\n"
     ]
    }
   ],
   "source": [
    "K.clear_session()\n",
    "\n",
    "# Number of nodes in input layer = number of features = 8\n",
    "nin = x_train.shape[1];\n",
    "# Number of hidden layer nodes\n",
    "nh = 100;\n",
    "# Number of output nodes\n",
    "nout = 1;\n",
    "\n",
    "# We wil use sigmoid as our activation here with 100 units in the hidden layer\n",
    "model_sig = Sequential();\n",
    "model_sig.add(Dense(nh, input_shape=(nin,), activation=\"sigmoid\", name=\"hidden\"))\n",
    "model_sig.add(Dense(nout, activation=\"sigmoid\", name=\"output\"))\n",
    "\n",
    "# We will use tanh as our activation here with 100 units in the hidden layer\n",
    "model_tanh = Sequential();\n",
    "model_tanh.add(Dense(nh, input_shape=(nin,), activation=\"tanh\", name=\"hidden\"))\n",
    "model_tanh.add(Dense(nout, activation=\"sigmoid\", name=\"output\"))\n",
    "\n",
    "# We will use reLU as out activation here with 100 units in the hidden layer\n",
    "model_relu = Sequential();\n",
    "model_relu.add(Dense(nh, input_shape=(nin,), activation=\"relu\", name=\"hidden\"))\n",
    "model_relu.add(Dense(nout, activation=\"sigmoid\", name=\"output\"))\n",
    "\n",
    "\n",
    "# We will use 10 hidden units in our network here with sigmoid as activation\n",
    "nh = 10;\n",
    "model_ten = Sequential();\n",
    "model_ten.add(Dense(nh, input_shape=(nin,), activation=\"sigmoid\", name=\"hidden\"))\n",
    "model_ten.add(Dense(nout, activation=\"sigmoid\", name=\"output\"))\n",
    "# We will use 200 hidden units in our network here with sigmoid as activation\n",
    "nh = 200; \n",
    "model_twohund = Sequential();\n",
    "model_twohund.add(Dense(nh, input_shape=(nin,), activation=\"sigmoid\", name=\"hidden\"))\n",
    "model_twohund.add(Dense(nout, activation=\"sigmoid\", name=\"output\"))\n",
    "\n",
    "\n",
    "# We will have 3 hidden layers in this network with 100 units each, sigmoid as activation\n",
    "nh = 100\n",
    "model_twolayer = Sequential();\n",
    "model_twolayer.add(Dense(nh, input_shape=(nin,), activation=\"sigmoid\", name=\"hidden\"))\n",
    "model_twolayer.add(Dense(nh, input_shape=(nin,), activation=\"sigmoid\", name=\"hidden_two\"))\n",
    "model_twolayer.add(Dense(nout, activation=\"sigmoid\", name=\"output\"))\n",
    "    \n",
    "# We will have 5 hidden layers in this network with 100 units each, sigmoid as activation\n",
    "model_fivelayer = Sequential();\n",
    "for x in range(0, 5):\n",
    "    model_fivelayer.add(Dense(nh, input_shape=(nin,), activation=\"sigmoid\", name=\"hidden\" + str(x)))\n",
    "model_fivelayer.add(Dense(nout, activation=\"sigmoid\", name=\"output\"))\n",
    "\n",
    "modelArr = [model_sig, model_tanh, model_relu, model_ten, model_twohund, model_twolayer, \n",
    "           model_fivelayer];\n",
    "\n",
    "# plot_model(model, to_file='model_plot.png', show_shapes=True, show_layer_names=True)\n",
    "\n",
    "# Check input layer, should be 8\n",
    "print(\"Number of input nodes = %i\" %nin)"
   ]
  },
  {
   "cell_type": "code",
   "execution_count": 239,
   "metadata": {},
   "outputs": [
    {
     "name": "stdout",
     "output_type": "stream",
     "text": [
      "_________________________________________________________________\n",
      "Layer (type)                 Output Shape              Param #   \n",
      "=================================================================\n",
      "hidden (Dense)               (None, 100)               900       \n",
      "_________________________________________________________________\n",
      "output (Dense)               (None, 1)                 101       \n",
      "=================================================================\n",
      "Total params: 1,001\n",
      "Trainable params: 1,001\n",
      "Non-trainable params: 0\n",
      "_________________________________________________________________\n",
      "_________________________________________________________________\n",
      "Layer (type)                 Output Shape              Param #   \n",
      "=================================================================\n",
      "hidden (Dense)               (None, 200)               1800      \n",
      "_________________________________________________________________\n",
      "output (Dense)               (None, 1)                 201       \n",
      "=================================================================\n",
      "Total params: 2,001\n",
      "Trainable params: 2,001\n",
      "Non-trainable params: 0\n",
      "_________________________________________________________________\n",
      "_________________________________________________________________\n",
      "Layer (type)                 Output Shape              Param #   \n",
      "=================================================================\n",
      "hidden0 (Dense)              (None, 100)               900       \n",
      "_________________________________________________________________\n",
      "hidden1 (Dense)              (None, 100)               10100     \n",
      "_________________________________________________________________\n",
      "hidden2 (Dense)              (None, 100)               10100     \n",
      "_________________________________________________________________\n",
      "hidden3 (Dense)              (None, 100)               10100     \n",
      "_________________________________________________________________\n",
      "hidden4 (Dense)              (None, 100)               10100     \n",
      "_________________________________________________________________\n",
      "output (Dense)               (None, 1)                 101       \n",
      "=================================================================\n",
      "Total params: 41,401\n",
      "Trainable params: 41,401\n",
      "Non-trainable params: 0\n",
      "_________________________________________________________________\n"
     ]
    }
   ],
   "source": [
    "model_sig.summary()\n",
    "model_twohund.summary()\n",
    "model_fivelayer.summary()\n"
   ]
  },
  {
   "cell_type": "code",
   "execution_count": 240,
   "metadata": {},
   "outputs": [],
   "source": [
    "from keras import optimizers\n",
    "\n",
    "# Compile all models\n",
    "opt = optimizers.Adam(lr=0.001)\n",
    "\n",
    "for model in modelArr: \n",
    "    model.compile(optimizer=opt, \n",
    "             loss=\"binary_crossentropy\",\n",
    "             metrics=[\"accuracy\"])\n",
    "    \n",
    "# model_sig.compile(optimizer=opt, \n",
    "#              loss=\"binary_crossentropy\",\n",
    "#              metrics=[\"accuracy\"])\n",
    "# model_tanh.compile(optimizer=opt, \n",
    "#              loss=\"binary_crossentropy\",\n",
    "#              metrics=[\"accuracy\"])\n",
    "# model_relu.compile(optimizer=opt, \n",
    "#              loss=\"binary_crossentropy\",\n",
    "#              metrics=[\"accuracy\"])\n",
    "# model_ten.compile(optimizer=opt, \n",
    "#              loss=\"binary_crossentropy\",\n",
    "#              metrics=[\"accuracy\"])\n",
    "# model_twohund.compile(optimizer=opt, \n",
    "#              loss=\"binary_crossentropy\",\n",
    "#              metrics=[\"accuracy\"])\n",
    "# model_twolayer.compile(optimizer=opt, \n",
    "#              loss=\"binary_crossentropy\",\n",
    "#              metrics=[\"accuracy\"])\n",
    "# model_fivelayer.compile(optimizer=opt, \n",
    "#              loss=\"binary_crossentropy\",\n",
    "#              metrics=[\"accuracy\"])\n",
    "\n"
   ]
  },
  {
   "cell_type": "code",
   "execution_count": 241,
   "metadata": {},
   "outputs": [],
   "source": [
    "class PlotLosses(keras.callbacks.Callback):\n",
    "    def on_train_begin(self, logs={}):\n",
    "        self.i = 0\n",
    "        self.x = []\n",
    "        self.losses = []\n",
    "        self.val_losses = []\n",
    "        \n",
    "        self.fig = plt.figure()\n",
    "        \n",
    "        self.logs = []\n",
    "\n",
    "    def on_epoch_end(self, epoch, logs={}):\n",
    "        \n",
    "        self.logs.append(logs)\n",
    "        self.x.append(self.i)\n",
    "        self.losses.append(logs.get('loss'))\n",
    "        self.val_losses.append(logs.get('val_loss'))\n",
    "        self.i += 1\n",
    "        \n",
    "        clear_output(wait=True)\n",
    "        plt.plot(self.x, self.losses, label=\"loss\")\n",
    "        plt.plot(self.x, self.val_losses, label=\"val_loss\")\n",
    "        plt.legend()\n",
    "        plt.show();\n",
    "        \n",
    "plot_losses = PlotLosses()"
   ]
  },
  {
   "cell_type": "code",
   "execution_count": null,
   "metadata": {},
   "outputs": [],
   "source": [
    "plt.plot(model_relu.fit(x_train, y_train, epochs=10, batch_size=100, \n",
    "                        validation_data=(x_test, y_test), verbose=0))\n"
   ]
  },
  {
   "cell_type": "code",
   "execution_count": null,
   "metadata": {},
   "outputs": [],
   "source": []
  },
  {
   "cell_type": "code",
   "execution_count": 231,
   "metadata": {},
   "outputs": [],
   "source": [
    "model_relu.save(\"pulsar100_sigmoid\");"
   ]
  },
  {
   "cell_type": "code",
   "execution_count": 232,
   "metadata": {},
   "outputs": [
    {
     "name": "stdout",
     "output_type": "stream",
     "text": [
      "_________________________________________________________________\n",
      "Layer (type)                 Output Shape              Param #   \n",
      "=================================================================\n",
      "hidden (Dense)               (None, 100)               900       \n",
      "_________________________________________________________________\n",
      "output (Dense)               (None, 1)                 101       \n",
      "=================================================================\n",
      "Total params: 1,001\n",
      "Trainable params: 1,001\n",
      "Non-trainable params: 0\n",
      "_________________________________________________________________\n"
     ]
    }
   ],
   "source": [
    "from keras.models import load_model\n",
    "\n",
    "model = load_model(\"pulsar100_sigmoid\")\n",
    "model.summary()"
   ]
  },
  {
   "cell_type": "code",
   "execution_count": 233,
   "metadata": {},
   "outputs": [
    {
     "name": "stdout",
     "output_type": "stream",
     "text": [
      "accuracy = 0.943240\n"
     ]
    }
   ],
   "source": [
    "score, acc = model.evaluate(x_test, y_test, verbose = 0)\n",
    "print(\"accuracy = %f\" % acc)"
   ]
  },
  {
   "cell_type": "code",
   "execution_count": null,
   "metadata": {},
   "outputs": [],
   "source": []
  }
 ],
 "metadata": {
  "kernelspec": {
   "display_name": "Python 3",
   "language": "python",
   "name": "python3"
  },
  "language_info": {
   "codemirror_mode": {
    "name": "ipython",
    "version": 3
   },
   "file_extension": ".py",
   "mimetype": "text/x-python",
   "name": "python",
   "nbconvert_exporter": "python",
   "pygments_lexer": "ipython3",
   "version": "3.7.1"
  }
 },
 "nbformat": 4,
 "nbformat_minor": 2
}
