{
 "cells": [
  {
   "cell_type": "code",
   "execution_count": 1,
   "metadata": {},
   "outputs": [],
   "source": [
    "import numpy as np\n",
    "import matplotlib\n",
    "import matplotlib.pyplot as plt\n",
    "import pandas as pd\n",
    "from sklearn import datasets, linear_model, preprocessing\n",
    "from sklearn.model_selection import train_test_split\n",
    "%matplotlib inline\n"
   ]
  },
  {
   "cell_type": "code",
   "execution_count": 2,
   "metadata": {},
   "outputs": [],
   "source": [
    "features = ['MIP', 'SIP','EKIP','SKIP','MDM-SR','SDM-SR','EKDM-SR','SKDM-SR','Target']\n",
    "df =  pd.read_csv('pulsar_stars.csv',\n",
    "                names=features,na_values='?',header=None, skiprows = 1)\n",
    "df = df.dropna()"
   ]
  },
  {
   "cell_type": "code",
   "execution_count": 20,
   "metadata": {},
   "outputs": [
    {
     "name": "stdout",
     "output_type": "stream",
     "text": [
      "(17898, 8)\n",
      "(17898, 1)\n"
     ]
    }
   ],
   "source": [
    "df.head(6)\n",
    "#pulsar = np.array((df.loc[:,'MIP':'Target']))\n",
    "pulsar_x= np.array((df.loc[:,'MIP':'SKDM-SR']))\n",
    "pulsar_y= np.array((df.loc[:,'Target']))\n",
    "pulsar_x=pulsar_x.reshape(pulsar_x.shape[0],8)\n",
    "pulsar_y=pulsar_y.reshape(pulsar_y.shape[0],1)\n",
    "print(pulsar_x.shape)\n",
    "print(pulsar_y.shape)\n"
   ]
  },
  {
   "cell_type": "code",
   "execution_count": 30,
   "metadata": {},
   "outputs": [
    {
     "name": "stdout",
     "output_type": "stream",
     "text": [
      "(13423, 1)\n",
      "(13423, 8)\n"
     ]
    }
   ],
   "source": [
    "x_scale = preprocessing.scale(pulsar_x)\n",
    "x_train, x_test, y_train, y_test = train_test_split(x_scale, pulsar_y)\n",
    "y_train = y_train.reshape((y_train.shape[0]), 1)\n",
    "print(y_train.shape)\n",
    "print(x_train.shape)"
   ]
  },
  {
   "cell_type": "code",
   "execution_count": 29,
   "metadata": {},
   "outputs": [],
   "source": [
    "def sigmoid(z):\n",
    "     return 1.0 / (1.0 + np.exp(-z))"
   ]
  },
  {
   "cell_type": "code",
   "execution_count": null,
   "metadata": {},
   "outputs": [],
   "source": [
    "# TODO - Append a column of ones to x_train - 10 points\n",
    "# ones is a vector of shape n,1\n",
    "ones = np.ones((x_train.shape[0] , 1))\n",
    "#print(ones.shape)\n",
    "\n",
    "# Append a column of ones in the beginning of x_train an save in variable a.\n",
    "a = np.hstack((ones,x_train))\n",
    "print(a.shape)"
   ]
  },
  {
   "cell_type": "code",
   "execution_count": null,
   "metadata": {},
   "outputs": [],
   "source": []
  }
 ],
 "metadata": {
  "kernelspec": {
   "display_name": "Python 3",
   "language": "python",
   "name": "python3"
  },
  "language_info": {
   "codemirror_mode": {
    "name": "ipython",
    "version": 3
   },
   "file_extension": ".py",
   "mimetype": "text/x-python",
   "name": "python",
   "nbconvert_exporter": "python",
   "pygments_lexer": "ipython3",
   "version": "3.7.1"
  }
 },
 "nbformat": 4,
 "nbformat_minor": 2
}
