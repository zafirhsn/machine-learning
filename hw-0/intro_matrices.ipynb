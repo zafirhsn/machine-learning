{
 "cells": [
  {
   "cell_type": "markdown",
   "metadata": {},
   "source": [
    "# Numpy Arrays and Broadcasting\n",
    "\n",
    "The `numpy` package has a number of powerful and fast tools for manipulating vectors.  In this demo, we will illustrate some of the features of the package that will be used throughout the class.  A more complete summary of `python` and `numpy` can be found at:\n",
    "\n",
    "http://cs231n.github.io/python-numpy-tutorial/\n",
    "\n",
    "For this tutorial, we start by importing the package."
   ]
  },
  {
   "cell_type": "code",
   "execution_count": 1,
   "metadata": {
    "collapsed": true
   },
   "outputs": [],
   "source": [
    "import numpy as np"
   ]
  },
  {
   "cell_type": "markdown",
   "metadata": {},
   "source": [
    "## Creating vectors\n",
    "We can create vectors a number of ways.  We can manually create a vector by specifying the elements from a list.  Note that, unlike MATLAB, there is no difference between a row and column vector.  Also, you have to call the `print` command to print the object."
   ]
  },
  {
   "cell_type": "code",
   "execution_count": 2,
   "metadata": {},
   "outputs": [
    {
     "name": "stdout",
     "output_type": "stream",
     "text": [
      "[1 2 4]\n"
     ]
    }
   ],
   "source": [
    "x = np.array([1,2,4])\n",
    "print(x)"
   ]
  },
  {
   "cell_type": "markdown",
   "metadata": {},
   "source": [
    "You can also set through a range of numbers "
   ]
  },
  {
   "cell_type": "code",
   "execution_count": 4,
   "metadata": {},
   "outputs": [
    {
     "name": "stdout",
     "output_type": "stream",
     "text": [
      "x1 = [0 1 2 3 4 5 6 7 8 9]\n",
      "x2 = [2 3 4 5 6]\n"
     ]
    }
   ],
   "source": [
    "x1 = np.arange(10)   # numbers from 0 to 9 (note 10 is NOT included)\n",
    "x2 = np.arange(2,7)  # numbers from 2 to 6\n",
    "print(\"x1 = \"+str(x1))\n",
    "print(\"x2 = \"+str(x2))"
   ]
  },
  {
   "cell_type": "markdown",
   "metadata": {},
   "source": [
    "You can also use a third `step` argument.  The step does not need to be positive or integer."
   ]
  },
  {
   "cell_type": "code",
   "execution_count": 11,
   "metadata": {},
   "outputs": [
    {
     "name": "stdout",
     "output_type": "stream",
     "text": [
      "[10 15 20 25 30 35 40 45]\n",
      "[  0.    2.5   5.    7.5  10. ]\n"
     ]
    }
   ],
   "source": [
    "x1 = np.arange(10,50,5)   # Increments of 5.  Note this ends on 45, not 50\n",
    "print(x1)\n",
    "\n",
    "# Increments of 2.5.  To ensure it includes the value 10, we make the endpoint slightly >10.\n",
    "step = 2.5\n",
    "x2 = np.arange(0,10+step/2,step)\n",
    "print(x2)"
   ]
  },
  {
   "cell_type": "markdown",
   "metadata": {},
   "source": [
    "Most operations can be vectorized meaning that the operation is applied to each component."
   ]
  },
  {
   "cell_type": "code",
   "execution_count": 16,
   "metadata": {},
   "outputs": [
    {
     "name": "stdout",
     "output_type": "stream",
     "text": [
      "x = [2 3 4 5]\n",
      "y = [ 4  9 16 25]\n"
     ]
    }
   ],
   "source": [
    "x = np.array(range(2,6))\n",
    "y = x**2\n",
    "print(\"x = \" + str(x))\n",
    "print(\"y = \" + str(y))"
   ]
  },
  {
   "cell_type": "markdown",
   "metadata": {},
   "source": [
    "**Exercise**  Write code to create the following vectors.  Use the `range` function along with basic mathematical operations.  For the case of `z2` you may consider using the `np.abs()` function.\n",
    "\n",
    "    z1 = [2,4,6,8,10,...,20]  \n",
    "    z2 = [50,40,30,...,10,0,10,20,...,50]\n",
    "    "
   ]
  },
  {
   "cell_type": "markdown",
   "metadata": {},
   "source": [
    "In the examples in the labs, we will load the vectors from data files.  We will show how to do this later using the `pandas` package."
   ]
  },
  {
   "cell_type": "markdown",
   "metadata": {},
   "source": [
    "## Plotting vectors\n",
    "The `matplotlib` package has excellent routines for plotting data and uses a very similar interface as MATLAB.  To load the package use the following commands.  The second line `%matplotlib inline` is only used when running python in `jupyter notebook.`"
   ]
  },
  {
   "cell_type": "code",
   "execution_count": 24,
   "metadata": {
    "collapsed": true
   },
   "outputs": [],
   "source": [
    "import matplotlib.pyplot as plt\n",
    "%matplotlib inline"
   ]
  },
  {
   "cell_type": "markdown",
   "metadata": {},
   "source": [
    "A simple illustration to plot $\\sin(2\\pi(3)t)$ vs. $t$ for $t \\in [0,2]$."
   ]
  },
  {
   "cell_type": "code",
   "execution_count": 28,
   "metadata": {},
   "outputs": [
    {
     "data": {
      "text/plain": [
       "<matplotlib.text.Text at 0x1d4377bf2b0>"
      ]
     },
     "execution_count": 28,
     "metadata": {},
     "output_type": "execute_result"
    },
    {
     "data": {
      "image/png": "[encoded data removed]",
      "text/plain": [
       "<matplotlib.figure.Figure at 0x1d4376d3748>"
      ]
     },
     "metadata": {},
     "output_type": "display_data"
    }
   ],
   "source": [
    "f = 3\n",
    "t = np.linspace(0,2,100)  # Similar to the MATLAB linspace command\n",
    "y = np.sin(2*np.pi*f*t)\n",
    "\n",
    "plt.plot(t,y)\n",
    "plt.grid()\n",
    "plt.xlabel('t', fontsize=16)\n",
    "plt.ylabel('sin(2pi ft)', fontsize=16)"
   ]
  },
  {
   "cell_type": "markdown",
   "metadata": {},
   "source": [
    "You can also stack plots."
   ]
  },
  {
   "cell_type": "code",
   "execution_count": 29,
   "metadata": {},
   "outputs": [
    {
     "data": {
      "text/plain": [
       "<matplotlib.text.Text at 0x1d4377b9668>"
      ]
     },
     "execution_count": 29,
     "metadata": {},
     "output_type": "execute_result"
    },
    {
     "data": {
      "image/png": "[encoded data removed]",
      "text/plain": [
       "<matplotlib.figure.Figure at 0x1d4376dc6d8>"
      ]
     },
     "metadata": {},
     "output_type": "display_data"
    }
   ],
   "source": [
    "ysq = y**2\n",
    "plt.plot(t,y)\n",
    "plt.plot(t,ysq)\n",
    "plt.grid()\n",
    "plt.xlabel('t')"
   ]
  },
  {
   "cell_type": "markdown",
   "metadata": {},
   "source": [
    "**Exercise** Create a plot of $y = e^{-2x}$ vs. $x$ for $x \\in [-1,3]$.  Use 200 points in the values of $x$."
   ]
  },
  {
   "cell_type": "markdown",
   "metadata": {},
   "source": [
    "## Indexing and Slicing Vectors\n",
    "\n",
    "You can access individual elements by `x[i]`.  Unlike MATLAB, the indexing starts at 0!  "
   ]
  },
  {
   "cell_type": "code",
   "execution_count": 31,
   "metadata": {},
   "outputs": [
    {
     "name": "stdout",
     "output_type": "stream",
     "text": [
      "Element 0 is 2\n",
      "Element 3 is 8\n"
     ]
    }
   ],
   "source": [
    "x = np.array([2,4,6,8,10])\n",
    "print(\"Element 0 is \"+str(x[0]))\n",
    "print(\"Element 3 is \"+str(x[3])) "
   ]
  },
  {
   "cell_type": "markdown",
   "metadata": {},
   "source": [
    "Similar to MATLAB, you can obtain *slices* from `numpy` vectors, meaning subsets of components.  Use the `:` operator as follows."
   ]
  },
  {
   "cell_type": "code",
   "execution_count": 41,
   "metadata": {},
   "outputs": [
    {
     "name": "stdout",
     "output_type": "stream",
     "text": [
      "x=      [ 0.058  0.073  0.522  0.379  0.157  0.319  0.802  0.72   0.484  0.448]\n",
      "x[2:5]= [ 0.522  0.379  0.157]\n",
      "x[:4]=  [ 0.058  0.073  0.522  0.379]\n",
      "x[7:]=  [ 0.72   0.484  0.448]\n",
      "xlast=  0.448\n"
     ]
    }
   ],
   "source": [
    "x = np.random.rand(10)  # 10 random elements from 0 to 1\n",
    "x1 = x[2:5]             # Elements 2,3,4  (Note 5 is NOT included)\n",
    "x2 = x[:4]              # Elements 0,1,2,3  (Starts at 0, element 4 NOT included)\n",
    "x3 = x[7:]              # Elements 7,8,9 (Element 7 IS included.  Ends at 9 NOT 10)\n",
    "xlast = x[-1]           # The last element\n",
    "\n",
    "print(\"x=      \"+np.array_str(x,precision=3))\n",
    "print(\"x[2:5]= \"+np.array_str(x1,precision=3))\n",
    "print(\"x[:4]=  \"+np.array_str(x2,precision=3))\n",
    "print(\"x[7:]=  \"+np.array_str(x3,precision=3))\n",
    "print(\"xlast=  {0:5.3f}\".format(xlast))\n"
   ]
  },
  {
   "cell_type": "markdown",
   "metadata": {},
   "source": [
    "** Exercise **  Suppose we construct a vector `x` by:\n",
    "\n",
    "    x = np.array(np.range(1,5))**2\n",
    "    \n",
    "What are the vectors created by the following slicing operations:\n",
    "\n",
    "    x1 = x[:3]\n",
    "    x2 = x[3:]\n",
    "    x3 = x[1:4]"
   ]
  },
  {
   "cell_type": "code",
   "execution_count": null,
   "metadata": {
    "collapsed": true
   },
   "outputs": [],
   "source": []
  }
 ],
 "metadata": {
  "anaconda-cloud": {},
  "kernelspec": {
   "display_name": "Python 3",
   "language": "python",
   "name": "python3"
  },
  "language_info": {
   "codemirror_mode": {
    "name": "ipython",
    "version": 3
   },
   "file_extension": ".py",
   "mimetype": "text/x-python",
   "name": "python",
   "nbconvert_exporter": "python",
   "pygments_lexer": "ipython3",
   "version": "3.7.1"
  }
 },
 "nbformat": 4,
 "nbformat_minor": 1
}
