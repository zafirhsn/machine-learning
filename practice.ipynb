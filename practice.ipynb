{
 "cells": [
  {
   "cell_type": "code",
   "execution_count": 159,
   "metadata": {},
   "outputs": [],
   "source": [
    "import numpy as np\n",
    "import matplotlib\n",
    "import matplotlib.pyplot as plt\n",
    "import pandas as pd\n",
    "from sklearn import datasets, linear_model, preprocessing\n",
    "from sklearn.model_selection import train_test_split\n",
    "%matplotlib inline\n"
   ]
  },
  {
   "cell_type": "code",
   "execution_count": 160,
   "metadata": {},
   "outputs": [
    {
     "name": "stdout",
     "output_type": "stream",
     "text": [
      "   battery_power  blue  clock_speed  dual_sim    fc  four_g  int_memory  \\\n",
      "0          842.0   0.0          2.2       0.0   1.0     0.0         7.0   \n",
      "1         1021.0   1.0          0.5       1.0   0.0     1.0        53.0   \n",
      "2          563.0   1.0          0.5       1.0   2.0     1.0        41.0   \n",
      "3          615.0   1.0          2.5       0.0   0.0     0.0        10.0   \n",
      "4         1821.0   1.0          1.2       0.0  13.0     1.0        44.0   \n",
      "5         1859.0   0.0          0.5       1.0   3.0     0.0        22.0   \n",
      "\n",
      "   m_dep  mobile_wt  n_cores     ...       px_height  px_width     ram  sc_h  \\\n",
      "0    0.6      188.0      2.0     ...            20.0     756.0  2549.0   9.0   \n",
      "1    0.7      136.0      3.0     ...           905.0    1988.0  2631.0  17.0   \n",
      "2    0.9      145.0      5.0     ...          1263.0    1716.0  2603.0  11.0   \n",
      "3    0.8      131.0      6.0     ...          1216.0    1786.0  2769.0  16.0   \n",
      "4    0.6      141.0      2.0     ...          1208.0    1212.0  1411.0   8.0   \n",
      "5    0.7      164.0      1.0     ...          1004.0    1654.0  1067.0  17.0   \n",
      "\n",
      "   sc_w  talk_time  three_g  touch_screen  wifi  price_range  \n",
      "0   7.0       19.0      0.0           0.0   1.0          1.0  \n",
      "1   3.0        7.0      1.0           1.0   0.0          2.0  \n",
      "2   2.0        9.0      1.0           1.0   0.0          2.0  \n",
      "3   8.0       11.0      1.0           0.0   0.0          2.0  \n",
      "4   2.0       15.0      1.0           1.0   0.0          1.0  \n",
      "5   1.0       10.0      1.0           0.0   0.0          1.0  \n",
      "\n",
      "[6 rows x 21 columns]\n",
      "(2000, 21)\n"
     ]
    }
   ],
   "source": [
    "names = [\"battery_power\", \"blue\", \"clock_speed\", \"dual_sim\", \"fc\", \"four_g\", \"int_memory\", \"m_dep\", \"mobile_wt\", \n",
    "         \"n_cores\", \"pc\" ,\"px_height\", \"px_width\", \"ram\", \"sc_h\", \"sc_w\", \"talk_time\", \"three_g\", \n",
    "         \"touch_screen\", \"wifi\", \"price_range\"];\n",
    "train_df = pd.read_csv(\"train.csv\", names=names, header=None, skiprows=1, dtype=np.float64)\n",
    "train_df = train_df.dropna();\n",
    "train_df.head(6);\n",
    "print(train_df.head(6));\n",
    "print(train_df.shape)"
   ]
  },
  {
   "cell_type": "code",
   "execution_count": 161,
   "metadata": {},
   "outputs": [],
   "source": [
    "#Not splitting data into train an test right now"
   ]
  },
  {
   "cell_type": "code",
   "execution_count": 162,
   "metadata": {},
   "outputs": [
    {
     "name": "stdout",
     "output_type": "stream",
     "text": [
      "target vector shape is  (2000, 1)\n",
      "train vector shape is (2000, 20)\n"
     ]
    }
   ],
   "source": [
    "# x_scale = preprocessing.scale(train_df)\n",
    "# print(x_scale);\n",
    "x_train = train_df.loc[:,'battery_power':'wifi'].values\n",
    "y_train = np.array(train_df[\"price_range\"]);\n",
    "y_train = y_train.reshape(y_train.shape[0], 1)\n",
    "print(\"target vector shape is \", y_train.shape)\n",
    "print(\"train vector shape is\", x_train.shape);\n"
   ]
  },
  {
   "cell_type": "code",
   "execution_count": 163,
   "metadata": {},
   "outputs": [
    {
     "name": "stdout",
     "output_type": "stream",
     "text": [
      "0       1.0\n",
      "1       2.0\n",
      "2       2.0\n",
      "3       2.0\n",
      "4       1.0\n",
      "5       1.0\n",
      "6       3.0\n",
      "7       0.0\n",
      "8       0.0\n",
      "9       0.0\n",
      "10      3.0\n",
      "11      3.0\n",
      "12      1.0\n",
      "13      2.0\n",
      "14      0.0\n",
      "15      0.0\n",
      "16      3.0\n",
      "17      3.0\n",
      "18      1.0\n",
      "19      1.0\n",
      "20      3.0\n",
      "21      3.0\n",
      "22      1.0\n",
      "23      0.0\n",
      "24      1.0\n",
      "25      2.0\n",
      "26      3.0\n",
      "27      3.0\n",
      "28      2.0\n",
      "29      0.0\n",
      "       ... \n",
      "1970    2.0\n",
      "1971    1.0\n",
      "1972    0.0\n",
      "1973    3.0\n",
      "1974    1.0\n",
      "1975    3.0\n",
      "1976    0.0\n",
      "1977    2.0\n",
      "1978    1.0\n",
      "1979    1.0\n",
      "1980    1.0\n",
      "1981    1.0\n",
      "1982    2.0\n",
      "1983    2.0\n",
      "1984    1.0\n",
      "1985    3.0\n",
      "1986    1.0\n",
      "1987    0.0\n",
      "1988    1.0\n",
      "1989    1.0\n",
      "1990    0.0\n",
      "1991    3.0\n",
      "1992    0.0\n",
      "1993    3.0\n",
      "1994    3.0\n",
      "1995    0.0\n",
      "1996    2.0\n",
      "1997    3.0\n",
      "1998    0.0\n",
      "1999    3.0\n",
      "Name: price_range, Length: 2000, dtype: float64\n"
     ]
    }
   ],
   "source": [
    "print(y);"
   ]
  },
  {
   "cell_type": "code",
   "execution_count": null,
   "metadata": {},
   "outputs": [],
   "source": []
  },
  {
   "cell_type": "code",
   "execution_count": null,
   "metadata": {},
   "outputs": [],
   "source": []
  }
 ],
 "metadata": {
  "kernelspec": {
   "display_name": "Python 3",
   "language": "python",
   "name": "python3"
  },
  "language_info": {
   "codemirror_mode": {
    "name": "ipython",
    "version": 3
   },
   "file_extension": ".py",
   "mimetype": "text/x-python",
   "name": "python",
   "nbconvert_exporter": "python",
   "pygments_lexer": "ipython3",
   "version": "3.7.1"
  }
 },
 "nbformat": 4,
 "nbformat_minor": 2
}
