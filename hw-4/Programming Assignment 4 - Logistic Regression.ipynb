{
 "cells": [
  {
   "cell_type": "markdown",
   "metadata": {},
   "source": [
    "# Programming Assignment 4 - Logistic Regression (170 points)"
   ]
  },
  {
   "cell_type": "code",
   "execution_count": 2,
   "metadata": {},
   "outputs": [],
   "source": [
    "# Import Important Libraries\n",
    "from sklearn.datasets import load_breast_cancer # taking included data set from Sklearn http://scikit-learn.org/stable/modules/generated/sklearn.datasets.load_breast_cancer.html\n",
    "from sklearn.linear_model import LogisticRegression # importing Sklearn's logistic regression's module\n",
    "from sklearn import preprocessing # preprossing is what we do with the data before we run the learning algorithm\n",
    "from sklearn.model_selection import train_test_split \n",
    "import numpy as np\n",
    "import math\n",
    "\n",
    "import matplotlib.pyplot as plt\n",
    "%matplotlib inline"
   ]
  },
  {
   "cell_type": "code",
   "execution_count": 3,
   "metadata": {},
   "outputs": [],
   "source": [
    "# TODO - Load the dataset - 5 points\n",
    "cancer = load_breast_cancer();"
   ]
  },
  {
   "cell_type": "code",
   "execution_count": 13,
   "metadata": {},
   "outputs": [
    {
     "name": "stdout",
     "output_type": "stream",
     "text": [
      "(569,)\n",
      "(569, 30)\n"
     ]
    }
   ],
   "source": [
    "# TODO - Print the shape of data (X) and target (Y) values - 5 points\n",
    "print(cancer.target.shape)\n",
    "print(cancer.data.shape)"
   ]
  },
  {
   "cell_type": "markdown",
   "metadata": {},
   "source": [
    "# Data Pre-Processing\n",
    "Scale before splitting the data into train and test- scale the data since we will be using gradient ascent"
   ]
  },
  {
   "cell_type": "code",
   "execution_count": 20,
   "metadata": {},
   "outputs": [],
   "source": [
    "# TODO - Use preprocessing to scale the data and use train_test_split to split the data (70% train and 30% test) - 5 points\n",
    "x_scale = preprocessing.scale(cancer.data)\n",
    "y = cancer.target\n",
    "x_train, x_test, y_train, y_test = train_test_split(x_scale,y)"
   ]
  },
  {
   "cell_type": "code",
   "execution_count": 21,
   "metadata": {},
   "outputs": [
    {
     "name": "stdout",
     "output_type": "stream",
     "text": [
      "(426, 30)\n",
      "(426,)\n"
     ]
    }
   ],
   "source": [
    "# TODO - Print the shape of x_train and y_train - 5 points\n",
    "print(x_train.shape)\n",
    "print(y_train.shape)"
   ]
  },
  {
   "cell_type": "code",
   "execution_count": 28,
   "metadata": {},
   "outputs": [
    {
     "name": "stdout",
     "output_type": "stream",
     "text": [
      "['mean radius' 'mean texture' 'mean perimeter' 'mean area'\n",
      " 'mean smoothness' 'mean compactness' 'mean concavity'\n",
      " 'mean concave points' 'mean symmetry' 'mean fractal dimension'\n",
      " 'radius error' 'texture error' 'perimeter error' 'area error'\n",
      " 'smoothness error' 'compactness error' 'concavity error'\n",
      " 'concave points error' 'symmetry error' 'fractal dimension error'\n",
      " 'worst radius' 'worst texture' 'worst perimeter' 'worst area'\n",
      " 'worst smoothness' 'worst compactness' 'worst concavity'\n",
      " 'worst concave points' 'worst symmetry' 'worst fractal dimension']\n"
     ]
    }
   ],
   "source": [
    "# Printing the names of all the features\n",
    "print(cancer.feature_names)"
   ]
  },
  {
   "cell_type": "markdown",
   "metadata": {},
   "source": [
    "# Implementing Logistic Regression Using Gradient Ascent"
   ]
  },
  {
   "cell_type": "code",
   "execution_count": 29,
   "metadata": {},
   "outputs": [],
   "source": [
    "# TODO - Write the sigmoid function - 10 points\n",
    "def sigmoid(z):\n",
    "    return (1 / (1 + np.exp(-z)))"
   ]
  },
  {
   "cell_type": "code",
   "execution_count": 30,
   "metadata": {},
   "outputs": [
    {
     "name": "stdout",
     "output_type": "stream",
     "text": [
      "0.5\n"
     ]
    }
   ],
   "source": [
    "# VERIFY - Sigmoid of 0 should be equal to half\n",
    "print(sigmoid(0))"
   ]
  },
  {
   "cell_type": "code",
   "execution_count": 32,
   "metadata": {},
   "outputs": [
    {
     "name": "stdout",
     "output_type": "stream",
     "text": [
      "(426, 31)\n"
     ]
    }
   ],
   "source": [
    "# TODO - Append a column of ones to x_train - 10 points\n",
    "# ones is a vector of shape n,1\n",
    "ones = np.ones(x_train.shape[0]).reshape((x_train.shape[0], 1))\n",
    "# Append a column of ones in the beginning of x_train an save in variable a.\n",
    "a = np.hstack((ones, x_train))\n",
    "print(a.shape)"
   ]
  },
  {
   "cell_type": "code",
   "execution_count": 34,
   "metadata": {},
   "outputs": [
    {
     "name": "stdout",
     "output_type": "stream",
     "text": [
      "(31, 1)\n"
     ]
    }
   ],
   "source": [
    "# TODO - Initialize Parameter Vector w: A vector of shape x_train.shape[1],1 - 5 points\n",
    "w = np.zeros((a.shape[1], 1))\n",
    "print(w.shape)"
   ]
  },
  {
   "cell_type": "code",
   "execution_count": 35,
   "metadata": {},
   "outputs": [],
   "source": [
    "# TODO - Write the hypothesis function - 10 points\n",
    "def hypothesis(a , w):\n",
    "    return sigmoid(np.matmul(a,w))"
   ]
  },
  {
   "cell_type": "code",
   "execution_count": 37,
   "metadata": {},
   "outputs": [],
   "source": [
    "# TODO - Compute y_hat using a and w - 5 points\n",
    "yhat = hypothesis(a, w)"
   ]
  },
  {
   "cell_type": "markdown",
   "metadata": {},
   "source": [
    "# Likelihood Function.\n",
    "Write the code to calculate the log likelihood as discussed in the class."
   ]
  },
  {
   "cell_type": "code",
   "execution_count": 43,
   "metadata": {},
   "outputs": [],
   "source": [
    "# TODO - Write the log likelihood function - 15 points \n",
    "def likelihood(X_tr , Y_tr , w , n):\n",
    "    yhat = hypothesis(X_tr, w)\n",
    "    Y_tr = Y_tr.reshape((yhat.shape[0]), 1)\n",
    "    likelihood = np.sum(Y_tr * np.log(yhat) + (1 - Y_tr) * np.log(1 - yhat))\n",
    "    return likelihood"
   ]
  },
  {
   "cell_type": "code",
   "execution_count": 44,
   "metadata": {},
   "outputs": [
    {
     "name": "stdout",
     "output_type": "stream",
     "text": [
      "-295.2806989185367\n"
     ]
    }
   ],
   "source": [
    "# VERIFY - The value should be equal to -295.2806989185367.\n",
    "print(likelihood(a,y_train,w,a.shape[0]))"
   ]
  },
  {
   "cell_type": "markdown",
   "metadata": {},
   "source": [
    "# Gradient Ascent"
   ]
  },
  {
   "cell_type": "code",
   "execution_count": 29,
   "metadata": {
    "collapsed": true
   },
   "outputs": [],
   "source": [
    "# TODO - Write the gradient ascent function - 25 points\n",
    "def Gradient_Ascent(a, y, learning_rate, num_iters):\n",
    "    n = None # Number of training examples.\n",
    "    # TODO - Initialize w. Zeros vector of shape x_train.shape[1],1\n",
    "    w = None\n",
    "    # TODO - Reshape y to be a rank 2 matrix.\n",
    "    y = None\n",
    "    # TODO - Initiating list to store values of likelihood after few iterations.\n",
    "    likelihood_values = []\n",
    "    for i in range(num_iters):\n",
    "        yhat = None\n",
    "        error = None\n",
    "        gradient = None\n",
    "        # Updating Parameters\n",
    "        w = None\n",
    "        if (i % 100) == 0:\n",
    "            likelihood_values.append(likelihood(a,y,w,n))\n",
    "        \n",
    "    return w, likelihood_values"
   ]
  },
  {
   "cell_type": "code",
   "execution_count": 30,
   "metadata": {},
   "outputs": [
    {
     "name": "stderr",
     "output_type": "stream",
     "text": [
      "/Users/ujjwalsinghania/anaconda3/lib/python3.6/site-packages/ipykernel_launcher.py:5: RuntimeWarning: divide by zero encountered in log\n",
      "  \"\"\"\n",
      "/Users/ujjwalsinghania/anaconda3/lib/python3.6/site-packages/ipykernel_launcher.py:5: RuntimeWarning: invalid value encountered in multiply\n",
      "  \"\"\"\n"
     ]
    },
    {
     "name": "stdout",
     "output_type": "stream",
     "text": [
      "[[ -3.22144977]\n",
      " [  5.40230165]\n",
      " [ -1.29691362]\n",
      " [  5.48873026]\n",
      " [ -0.19503516]\n",
      " [ -2.03687402]\n",
      " [ 12.24001414]\n",
      " [ -8.94148557]\n",
      " [ -7.93523054]\n",
      " [  4.00972654]\n",
      " [ -5.58061483]\n",
      " [-13.69400184]\n",
      " [  2.96079775]\n",
      " [  5.26888015]\n",
      " [-13.64988283]\n",
      " [  1.05085696]\n",
      " [ -4.51494167]\n",
      " [  5.0851475 ]\n",
      " [ -9.331508  ]\n",
      " [  5.66281395]\n",
      " [  9.25341835]\n",
      " [ -5.21545132]\n",
      " [ -7.28979615]\n",
      " [  0.16343147]\n",
      " [-13.99543156]\n",
      " [  1.55870384]\n",
      " [  6.61675198]\n",
      " [-11.13473703]\n",
      " [ -0.0448658 ]\n",
      " [-10.39257167]\n",
      " [ -0.49036323]]\n"
     ]
    }
   ],
   "source": [
    "learning_rate = None\n",
    "num_iters = None\n",
    "w, likelihood_values = None\n",
    "print(w)"
   ]
  },
  {
   "cell_type": "markdown",
   "metadata": {},
   "source": [
    "# Plotting Likelihood v/s Number of Iterations."
   ]
  },
  {
   "cell_type": "code",
   "execution_count": 20,
   "metadata": {
    "scrolled": true
   },
   "outputs": [
    {
     "data": {
      "image/png": "[encoded data removed]",
      "text/plain": [
       "<matplotlib.figure.Figure at 0x1047c6b70>"
      ]
     },
     "metadata": {},
     "output_type": "display_data"
    }
   ],
   "source": [
    "# Run this cell to plot Likelihood v/s Number of Iterations.\n",
    "iters = np.array(range(0,num_iters,100))\n",
    "plt.plot(iters,likelihood_values,'.-',color='green')\n",
    "plt.xlabel('Number of iterations')\n",
    "plt.ylabel('Likelihood')\n",
    "plt.title(\"Likelihood vs Number of Iterations.\")\n",
    "plt.grid()"
   ]
  },
  {
   "cell_type": "markdown",
   "metadata": {},
   "source": [
    "You should see the likelihood increasing as number of Iterations increase."
   ]
  },
  {
   "cell_type": "code",
   "execution_count": 19,
   "metadata": {
    "collapsed": true
   },
   "outputs": [],
   "source": [
    "# TODO - Write the function to compute predicted values using a and w - 10 points\n",
    "def predict(a, w):\n",
    "    yhat = None\n",
    "    return yhat"
   ]
  },
  {
   "cell_type": "code",
   "execution_count": 20,
   "metadata": {},
   "outputs": [
    {
     "name": "stdout",
     "output_type": "stream",
     "text": [
      "[[1.00000000e+000]\n",
      " [9.71497110e-025]\n",
      " [1.00000000e+000]\n",
      " [9.94686167e-001]\n",
      " [9.99993990e-001]\n",
      " [1.00000000e+000]\n",
      " [1.00000000e+000]\n",
      " [3.62539177e-001]\n",
      " [9.99999768e-001]\n",
      " [7.13169757e-017]\n",
      " [1.66707191e-017]\n",
      " [2.05400203e-028]\n",
      " [9.99844533e-001]\n",
      " [9.99063601e-001]\n",
      " [1.66214747e-001]\n",
      " [6.19930994e-028]\n",
      " [1.00000000e+000]\n",
      " [1.00000000e+000]\n",
      " [7.31985396e-012]\n",
      " [1.00000000e+000]\n",
      " [1.00000000e+000]\n",
      " [1.00000000e+000]\n",
      " [9.99999506e-001]\n",
      " [1.00000000e+000]\n",
      " [7.00444394e-019]\n",
      " [9.99999998e-001]\n",
      " [1.00000000e+000]\n",
      " [1.16324120e-008]\n",
      " [1.00000000e+000]\n",
      " [1.93698455e-058]\n",
      " [9.99999996e-001]\n",
      " [9.86332308e-001]\n",
      " [1.00000000e+000]\n",
      " [9.99876394e-001]\n",
      " [9.99999996e-001]\n",
      " [1.55189800e-001]\n",
      " [9.99999865e-001]\n",
      " [7.63442230e-027]\n",
      " [9.99999876e-001]\n",
      " [9.99999998e-001]\n",
      " [1.00000000e+000]\n",
      " [1.00000000e+000]\n",
      " [1.00000000e+000]\n",
      " [7.42145047e-024]\n",
      " [1.88292025e-016]\n",
      " [1.00000000e+000]\n",
      " [1.00000000e+000]\n",
      " [1.49150997e-035]\n",
      " [1.93471423e-027]\n",
      " [1.86903271e-030]\n",
      " [1.00000000e+000]\n",
      " [1.00000000e+000]\n",
      " [1.05044653e-018]\n",
      " [1.00000000e+000]\n",
      " [9.99999999e-001]\n",
      " [9.99999997e-001]\n",
      " [1.00000000e+000]\n",
      " [1.00000000e+000]\n",
      " [9.85727553e-001]\n",
      " [9.99999999e-001]\n",
      " [1.00000000e+000]\n",
      " [9.99999999e-001]\n",
      " [9.99999767e-001]\n",
      " [4.31757944e-025]\n",
      " [1.00000000e+000]\n",
      " [3.37953692e-016]\n",
      " [1.00000000e+000]\n",
      " [1.00000000e+000]\n",
      " [1.00000000e+000]\n",
      " [1.00000000e+000]\n",
      " [9.96390058e-001]\n",
      " [8.77278967e-001]\n",
      " [9.80430967e-001]\n",
      " [1.72723641e-013]\n",
      " [9.99989985e-001]\n",
      " [9.98747033e-001]\n",
      " [9.99999998e-001]\n",
      " [1.00000000e+000]\n",
      " [9.99330963e-001]\n",
      " [1.83436095e-010]\n",
      " [9.98250719e-001]\n",
      " [9.09748691e-001]\n",
      " [6.82833974e-005]\n",
      " [5.93789170e-011]\n",
      " [1.00000000e+000]\n",
      " [9.99999998e-001]\n",
      " [2.03234091e-006]\n",
      " [9.66400980e-001]\n",
      " [2.19056574e-021]\n",
      " [5.01685001e-027]\n",
      " [1.51066621e-041]\n",
      " [9.99861822e-001]\n",
      " [9.99999055e-001]\n",
      " [1.00000000e+000]\n",
      " [1.86815161e-016]\n",
      " [1.00000000e+000]\n",
      " [9.99999434e-001]\n",
      " [9.99991831e-001]\n",
      " [3.47253483e-029]\n",
      " [9.99999686e-001]\n",
      " [9.99445753e-001]\n",
      " [7.36017836e-037]\n",
      " [9.99999981e-001]\n",
      " [1.26158009e-054]\n",
      " [1.76961960e-043]\n",
      " [7.85477530e-001]\n",
      " [1.78366107e-023]\n",
      " [9.99999999e-001]\n",
      " [2.87622166e-016]\n",
      " [9.50206606e-001]\n",
      " [9.99999988e-001]\n",
      " [9.64671184e-001]\n",
      " [1.11323243e-037]\n",
      " [8.99315607e-061]\n",
      " [1.00000000e+000]\n",
      " [1.00000000e+000]\n",
      " [1.00000000e+000]\n",
      " [9.47673148e-043]\n",
      " [1.00000000e+000]\n",
      " [1.00000000e+000]\n",
      " [9.45778378e-001]\n",
      " [9.99999884e-001]\n",
      " [1.28195876e-045]\n",
      " [9.99999949e-001]\n",
      " [8.88985074e-017]\n",
      " [1.00000000e+000]\n",
      " [9.99997044e-001]\n",
      " [3.35147161e-015]\n",
      " [9.99991325e-001]\n",
      " [2.95907588e-057]\n",
      " [1.00000000e+000]\n",
      " [9.99975848e-001]\n",
      " [1.78123413e-015]\n",
      " [2.28356093e-003]\n",
      " [1.00000000e+000]\n",
      " [5.18540007e-002]\n",
      " [9.99999988e-001]\n",
      " [5.78601040e-045]\n",
      " [5.80134775e-046]\n",
      " [9.91295579e-001]\n",
      " [1.00000000e+000]\n",
      " [1.52835964e-014]\n",
      " [1.00000000e+000]\n",
      " [2.58457808e-009]\n",
      " [9.99999982e-001]\n",
      " [1.00000000e+000]\n",
      " [9.99999988e-001]\n",
      " [7.75957311e-009]\n",
      " [9.78669271e-008]\n",
      " [1.00000000e+000]\n",
      " [2.44225520e-028]\n",
      " [1.14729055e-034]\n",
      " [9.99990157e-001]\n",
      " [8.75767211e-022]\n",
      " [1.00000000e+000]\n",
      " [1.00000000e+000]\n",
      " [1.00000000e+000]\n",
      " [9.99561773e-001]\n",
      " [9.51047294e-001]\n",
      " [9.99999993e-001]\n",
      " [1.00000000e+000]\n",
      " [9.99999998e-001]\n",
      " [1.00000000e+000]\n",
      " [4.76733390e-019]\n",
      " [3.72695851e-006]\n",
      " [1.44508118e-001]\n",
      " [7.27207474e-033]\n",
      " [1.48018308e-022]\n",
      " [4.27156494e-012]\n",
      " [8.81047237e-001]\n",
      " [9.99999906e-001]\n",
      " [1.00000000e+000]\n",
      " [1.45644588e-010]\n",
      " [9.99999999e-001]\n",
      " [1.00000000e+000]\n",
      " [1.71146708e-006]\n",
      " [9.96530332e-001]\n",
      " [1.00000000e+000]\n",
      " [5.36829447e-021]\n",
      " [7.55329857e-076]\n",
      " [5.76926260e-005]\n",
      " [9.99999999e-001]\n",
      " [1.00000000e+000]\n",
      " [7.22870810e-001]\n",
      " [4.22153472e-030]\n",
      " [1.82871445e-009]\n",
      " [9.99897169e-001]\n",
      " [9.99999999e-001]\n",
      " [7.89370372e-014]\n",
      " [6.07764429e-010]\n",
      " [9.99998911e-001]\n",
      " [2.67660999e-022]\n",
      " [1.43063852e-007]\n",
      " [5.64300996e-012]\n",
      " [5.16497817e-004]\n",
      " [9.32838409e-001]\n",
      " [1.00000000e+000]\n",
      " [9.99999832e-001]\n",
      " [9.99999582e-001]\n",
      " [1.00000000e+000]\n",
      " [9.11802287e-001]\n",
      " [1.00000000e+000]\n",
      " [1.00000000e+000]\n",
      " [1.65720315e-026]\n",
      " [1.00000000e+000]\n",
      " [1.95989029e-061]\n",
      " [9.99990616e-001]\n",
      " [9.99999998e-001]\n",
      " [1.00528580e-014]\n",
      " [1.00000000e+000]\n",
      " [1.00000000e+000]\n",
      " [1.00000000e+000]\n",
      " [9.90792734e-001]\n",
      " [2.18686032e-017]\n",
      " [9.99275628e-001]\n",
      " [1.87186079e-016]\n",
      " [9.99999999e-001]\n",
      " [7.87011707e-002]\n",
      " [5.74092764e-131]\n",
      " [1.00000000e+000]\n",
      " [5.91383370e-073]\n",
      " [3.75974715e-025]\n",
      " [1.00000000e+000]\n",
      " [5.84796295e-003]\n",
      " [3.85065804e-019]\n",
      " [9.99999993e-001]\n",
      " [7.67766848e-012]\n",
      " [1.00000000e+000]\n",
      " [1.00000000e+000]\n",
      " [1.28716491e-012]\n",
      " [8.85112515e-044]\n",
      " [9.99409148e-001]\n",
      " [8.24562361e-008]\n",
      " [1.00000000e+000]\n",
      " [7.21350275e-023]\n",
      " [9.99999998e-001]\n",
      " [3.16205610e-021]\n",
      " [1.00000000e+000]\n",
      " [7.94952201e-001]\n",
      " [2.72621846e-027]\n",
      " [1.00000000e+000]\n",
      " [1.00000000e+000]\n",
      " [6.47086576e-016]\n",
      " [9.99860007e-001]\n",
      " [1.53015679e-007]\n",
      " [1.00000000e+000]\n",
      " [1.00000000e+000]\n",
      " [7.12555944e-024]\n",
      " [1.00000000e+000]\n",
      " [6.51079302e-042]\n",
      " [9.99999127e-001]\n",
      " [2.05135959e-014]\n",
      " [1.12555433e-012]\n",
      " [4.91010997e-027]\n",
      " [9.99999970e-001]\n",
      " [9.99999996e-001]\n",
      " [9.99999994e-001]\n",
      " [3.13298277e-018]\n",
      " [9.99999999e-001]\n",
      " [7.49749360e-016]\n",
      " [9.99999999e-001]\n",
      " [2.38426949e-018]\n",
      " [9.99999994e-001]\n",
      " [2.01794274e-032]\n",
      " [6.09084833e-003]\n",
      " [9.99999974e-001]\n",
      " [1.00000000e+000]\n",
      " [9.99999797e-001]\n",
      " [8.57164102e-001]\n",
      " [9.07464463e-007]\n",
      " [9.99634340e-001]\n",
      " [9.69607460e-024]\n",
      " [1.00000000e+000]\n",
      " [1.59909083e-032]\n",
      " [9.99999989e-001]\n",
      " [9.59617779e-005]\n",
      " [9.99999882e-001]\n",
      " [1.80388587e-009]\n",
      " [9.99999987e-001]\n",
      " [9.99999998e-001]\n",
      " [4.02889989e-049]\n",
      " [2.37274463e-004]\n",
      " [1.01306733e-031]\n",
      " [9.99999998e-001]\n",
      " [9.99827743e-001]\n",
      " [1.00064409e-014]\n",
      " [5.48566955e-002]\n",
      " [9.56804849e-001]\n",
      " [9.67063500e-001]\n",
      " [5.24597521e-013]\n",
      " [2.60756194e-007]\n",
      " [1.00000000e+000]\n",
      " [1.00000000e+000]\n",
      " [1.00000000e+000]\n",
      " [9.99999908e-001]\n",
      " [9.99999960e-001]\n",
      " [9.83152223e-002]\n",
      " [4.42891151e-007]\n",
      " [1.00000000e+000]\n",
      " [1.00000000e+000]\n",
      " [9.99999999e-001]\n",
      " [9.99934275e-001]\n",
      " [8.47808068e-001]\n",
      " [1.00000000e+000]\n",
      " [9.99999108e-001]\n",
      " [1.00000000e+000]\n",
      " [3.78772324e-031]\n",
      " [7.77849328e-009]\n",
      " [9.99897848e-001]\n",
      " [9.99999999e-001]\n",
      " [1.00000000e+000]\n",
      " [1.25290471e-037]\n",
      " [3.42406207e-001]\n",
      " [9.99999820e-001]\n",
      " [1.00000000e+000]\n",
      " [1.00000000e+000]\n",
      " [1.00000000e+000]\n",
      " [9.99977661e-001]\n",
      " [5.25086106e-001]\n",
      " [1.15816306e-015]\n",
      " [9.99999885e-001]\n",
      " [8.18731373e-001]\n",
      " [1.00000000e+000]\n",
      " [9.99569640e-001]\n",
      " [5.49679930e-014]\n",
      " [5.81806173e-001]\n",
      " [7.78990288e-027]\n",
      " [9.99971803e-001]\n",
      " [1.00000000e+000]\n",
      " [9.51339654e-001]\n",
      " [2.88217787e-031]\n",
      " [8.78479222e-001]\n",
      " [5.57308660e-010]\n",
      " [1.00000000e+000]\n",
      " [9.99999515e-001]\n",
      " [6.44193321e-019]\n",
      " [9.99999997e-001]\n",
      " [1.00000000e+000]\n",
      " [1.00000000e+000]\n",
      " [1.00000000e+000]\n",
      " [9.99999999e-001]\n",
      " [1.00000000e+000]\n",
      " [1.00000000e+000]\n",
      " [1.42653244e-024]\n",
      " [2.26879142e-033]\n",
      " [5.80413782e-005]\n",
      " [4.11019938e-047]\n",
      " [1.55083422e-025]\n",
      " [9.99984065e-001]\n",
      " [9.99999995e-001]\n",
      " [2.85247932e-039]\n",
      " [7.48909025e-001]\n",
      " [9.99999991e-001]\n",
      " [1.00000000e+000]\n",
      " [1.00000000e+000]\n",
      " [9.77674922e-001]\n",
      " [1.00000000e+000]\n",
      " [9.99999968e-001]\n",
      " [1.00000000e+000]\n",
      " [9.99999434e-001]\n",
      " [9.99999996e-001]\n",
      " [2.76864128e-002]\n",
      " [9.99999997e-001]\n",
      " [2.60227676e-028]\n",
      " [8.34615255e-046]\n",
      " [9.99991006e-001]\n",
      " [9.99979384e-001]\n",
      " [2.75739527e-006]\n",
      " [9.99999997e-001]\n",
      " [9.99999984e-001]\n",
      " [9.99387802e-001]\n",
      " [9.97425773e-001]\n",
      " [1.00000000e+000]\n",
      " [9.99974256e-001]\n",
      " [7.10328141e-001]\n",
      " [9.93418073e-001]\n",
      " [2.63453222e-023]\n",
      " [1.00000000e+000]\n",
      " [1.00000000e+000]\n",
      " [1.00000000e+000]\n",
      " [1.00000000e+000]\n",
      " [5.55818537e-022]\n",
      " [1.00000000e+000]\n",
      " [1.00000000e+000]\n",
      " [1.23404191e-038]\n",
      " [1.73829024e-004]\n",
      " [2.56093009e-029]\n",
      " [8.77510075e-017]\n",
      " [1.72498297e-007]\n",
      " [9.99990511e-001]\n",
      " [2.14194819e-015]\n",
      " [9.99998464e-001]\n",
      " [9.99999993e-001]\n",
      " [8.32071963e-001]\n",
      " [2.33598932e-020]\n",
      " [9.99999879e-001]\n",
      " [9.99875886e-001]\n",
      " [1.00000000e+000]\n",
      " [2.94274910e-018]\n",
      " [1.00000000e+000]\n",
      " [3.24439887e-032]\n",
      " [8.17821832e-040]\n",
      " [7.16188552e-037]\n",
      " [4.58714826e-007]\n",
      " [2.28790148e-010]\n",
      " [3.91295015e-015]\n",
      " [2.74659515e-045]\n",
      " [4.23213345e-016]\n",
      " [9.99999988e-001]\n",
      " [9.93223825e-001]\n",
      " [2.80772660e-018]\n",
      " [3.75602931e-001]\n",
      " [3.56977802e-022]\n",
      " [2.01639529e-007]\n",
      " [9.99996619e-001]\n",
      " [9.99989572e-001]\n",
      " [1.00000000e+000]\n",
      " [9.99999855e-001]\n",
      " [9.99999999e-001]\n",
      " [9.99999884e-001]\n",
      " [1.00000000e+000]\n",
      " [9.99972293e-001]\n",
      " [6.62775293e-027]\n",
      " [2.92530711e-025]\n",
      " [9.99448226e-001]\n",
      " [9.99999999e-001]]\n"
     ]
    }
   ],
   "source": [
    "yhat = None"
   ]
  },
  {
   "cell_type": "code",
   "execution_count": 21,
   "metadata": {
    "collapsed": true
   },
   "outputs": [],
   "source": [
    "# TODO - Write the precision_recall function - 20 points\n",
    "def precision_recall(yhat, y , threshold):\n",
    "    # Write code to compute precision and recall\n",
    "    # Before finding precision or recall, you have to convert yhat into a vector of zeros and ones using threshold.\n",
    "    # Values in yhat > threshold should be equal to 1 and others should be 0.\n",
    "    \n",
    "    precision = None\n",
    "    recall = None\n",
    "    return precision,recall"
   ]
  },
  {
   "cell_type": "code",
   "execution_count": 22,
   "metadata": {},
   "outputs": [
    {
     "name": "stdout",
     "output_type": "stream",
     "text": [
      "0.9886363636363636\n",
      "0.9961832061068703\n"
     ]
    }
   ],
   "source": [
    "precision, recall = None\n",
    "print(precision)\n",
    "print(recall)"
   ]
  },
  {
   "cell_type": "code",
   "execution_count": 23,
   "metadata": {},
   "outputs": [
    {
     "name": "stdout",
     "output_type": "stream",
     "text": [
      "0.9923954372623575\n"
     ]
    }
   ],
   "source": [
    "# TODO - Write the f_score function - 10 points\n",
    "def f_score(precision, recall):\n",
    "    return None\n",
    "\n",
    "print(f_score(precision, recall))"
   ]
  },
  {
   "cell_type": "markdown",
   "metadata": {},
   "source": [
    "# Fitting Model using Sk Learn Library. "
   ]
  },
  {
   "cell_type": "code",
   "execution_count": 32,
   "metadata": {
    "collapsed": true
   },
   "outputs": [],
   "source": [
    "# TODO - Create object of logistic regression model. Pass a large value of C (C = 1/lambda) to make lambda nearly 0. - 5 points\n",
    "logreg = None"
   ]
  },
  {
   "cell_type": "code",
   "execution_count": 33,
   "metadata": {},
   "outputs": [
    {
     "data": {
      "text/plain": [
       "LogisticRegression(C=100000000, class_weight=None, dual=False,\n",
       "          fit_intercept=True, intercept_scaling=1, max_iter=100,\n",
       "          multi_class='ovr', n_jobs=1, penalty='l2', random_state=None,\n",
       "          solver='liblinear', tol=0.0001, verbose=0, warm_start=False)"
      ]
     },
     "execution_count": 33,
     "metadata": {},
     "output_type": "execute_result"
    }
   ],
   "source": [
    "# TODO - Fit the model - 5 points\n",
    "# Don't use matrix a. Instead, use x_train.\n"
   ]
  },
  {
   "cell_type": "code",
   "execution_count": 34,
   "metadata": {},
   "outputs": [
    {
     "name": "stdout",
     "output_type": "stream",
     "text": [
      "Accuracy on training data = 1.000000\n"
     ]
    }
   ],
   "source": [
    "# TODO - Find the predicted values on training set using logreg.predict - 5 points\n",
    "yhat = None\n",
    "# TODO - Find the accuracy achieved on training set using logreg.score - 5 points\n",
    "acc = None\n",
    "\n",
    "print(\"Accuracy on training data = %f\" % acc)"
   ]
  },
  {
   "cell_type": "code",
   "execution_count": 27,
   "metadata": {},
   "outputs": [
    {
     "name": "stdout",
     "output_type": "stream",
     "text": [
      "[[ 9.47984117e+01 -2.06543943e+01  3.12770800e+01 -2.13787045e+00\n",
      "   7.97953361e-01  1.28587045e+02 -1.93304284e+02 -8.09336079e+00\n",
      "   1.96161431e+01 -4.25980723e+01 -1.39242038e+02  5.47193686e+00\n",
      "   1.49913326e+02 -1.51486173e+02  1.07235287e+01 -6.53898078e+01\n",
      "   9.99398121e+01 -5.93914742e+01  2.77478290e+01  6.82998775e+01\n",
      "   3.47505473e+00 -1.84201111e+01 -1.45342768e+02 -7.74089833e+01\n",
      "  -1.45390914e-01  5.21929196e+01 -2.01309302e+01 -7.24649902e+01\n",
      "  -3.69090923e+01 -2.86230768e+01]]\n",
      "[-61.04913322]\n"
     ]
    }
   ],
   "source": [
    "# TODO - Print out all the coefficients - 5 points\n",
    "w = None\n",
    "intercept = None\n",
    "# VERIFY - Compare the parameters computed by logreg model and gradient ascent. They should be nearly same.\n",
    "print(w)\n",
    "print(intercept)"
   ]
  },
  {
   "cell_type": "markdown",
   "metadata": {},
   "source": [
    "# Performance Metrics:\n"
   ]
  },
  {
   "cell_type": "code",
   "execution_count": 35,
   "metadata": {},
   "outputs": [
    {
     "name": "stdout",
     "output_type": "stream",
     "text": [
      "[1. 1.]\n",
      "[1. 1.]\n",
      "[1. 1.]\n"
     ]
    }
   ],
   "source": [
    "from sklearn.metrics import precision_recall_fscore_support\n",
    "# TODO - Find Precision, recall and fscore using precision_recall_fscore_support nethod of sklearn - 5 points\n",
    "prec , recal , fscore,_ = None"
   ]
  },
  {
   "cell_type": "markdown",
   "metadata": {},
   "source": [
    "You can compare the values of precision, recall and fscore using the methods you wrote and using sklearn method.\n",
    "To match the values of precision, recall and fscore using both methods, you will have to try different values of threshold in your method."
   ]
  }
 ],
 "metadata": {
  "kernelspec": {
   "display_name": "Python 3",
   "language": "python",
   "name": "python3"
  },
  "language_info": {
   "codemirror_mode": {
    "name": "ipython",
    "version": 3
   },
   "file_extension": ".py",
   "mimetype": "text/x-python",
   "name": "python",
   "nbconvert_exporter": "python",
   "pygments_lexer": "ipython3",
   "version": "3.7.1"
  }
 },
 "nbformat": 4,
 "nbformat_minor": 2
}
